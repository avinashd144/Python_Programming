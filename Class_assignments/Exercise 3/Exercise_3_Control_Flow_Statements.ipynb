{
  "nbformat": 4,
  "nbformat_minor": 0,
  "metadata": {
    "colab": {
      "provenance": []
    },
    "kernelspec": {
      "name": "python3",
      "display_name": "Python 3"
    },
    "language_info": {
      "name": "python"
    }
  },
  "cells": [
    {
      "cell_type": "markdown",
      "source": [
        "1. Write a program to check if a given number is positive, negative, or zero."
      ],
      "metadata": {
        "id": "0QndPg8EMu26"
      }
    },
    {
      "cell_type": "code",
      "source": [
        "num = int(input(\"Enter a number: \") )\n",
        "if num > 0:\n",
        "  print(\"Positive\")\n",
        "elif num < 0:\n",
        "  print(\"Negative\")\n",
        "else:\n",
        "  print(\"Zero\")"
      ],
      "metadata": {
        "colab": {
          "base_uri": "https://localhost:8080/"
        },
        "id": "prBzjRbdMyIZ",
        "outputId": "67f55df0-ed99-400f-a387-ce9cbfe439dd"
      },
      "execution_count": 5,
      "outputs": [
        {
          "output_type": "stream",
          "name": "stdout",
          "text": [
            "Enter a number: 0\n",
            "Zero\n"
          ]
        }
      ]
    },
    {
      "cell_type": "markdown",
      "source": [
        "2. Write a program to find the maximum of two numbers."
      ],
      "metadata": {
        "id": "-6Skhd2sNozr"
      }
    },
    {
      "cell_type": "code",
      "source": [
        "def maximum(a, b):\n",
        "  return a if a > b else b\n",
        "num1 = int(input(\"Enter first number: \"))\n",
        "num2 = int(input(\"Enter second number: \"))\n",
        "print(\"Maximum:\", maximum(num1, num2))"
      ],
      "metadata": {
        "colab": {
          "base_uri": "https://localhost:8080/"
        },
        "id": "dIgQT30tNp3L",
        "outputId": "072f9622-1e23-4ba0-b97e-3cab660544da"
      },
      "execution_count": 9,
      "outputs": [
        {
          "output_type": "stream",
          "name": "stdout",
          "text": [
            "Enter first number: 20\n",
            "Enter second number: 30\n",
            "Maximum: 30\n"
          ]
        }
      ]
    },
    {
      "cell_type": "markdown",
      "source": [
        "3. Write a program to check if a given year is a leap year."
      ],
      "metadata": {
        "id": "i8oAk3aDOPW5"
      }
    },
    {
      "cell_type": "code",
      "source": [
        "def is_leap_year(year):\n",
        "  return (year % 4 == 0 and year % 100 != 0) or (year % 400 == 0)\n",
        "year = int(input(\"Enter a year: \" ))\n",
        "if is_leap_year(year):\n",
        "  print(\"Leap year\")\n",
        "else:\n",
        "  print(\"Not a leap year\")"
      ],
      "metadata": {
        "colab": {
          "base_uri": "https://localhost:8080/"
        },
        "id": "StXdOq-xOTOM",
        "outputId": "be1c63d7-b3dd-4ab0-a17a-64dbe862daeb"
      },
      "execution_count": 11,
      "outputs": [
        {
          "output_type": "stream",
          "name": "stdout",
          "text": [
            "Enter a year: 2002\n",
            "Not a leap year\n"
          ]
        }
      ]
    },
    {
      "cell_type": "markdown",
      "source": [
        "4. Write a program to print the Fibonacci sequence up to a given number of terms."
      ],
      "metadata": {
        "id": "VzMMcSVuQsmB"
      }
    },
    {
      "cell_type": "code",
      "source": [
        "def fibonacci(n):\n",
        "  a, b = 0, 1\n",
        "  fib = [a, b]\n",
        "  for i in range(n - 2) :\n",
        "    a, b = b, a + b\n",
        "    fib.append(b)\n",
        "  return fib\n",
        "terms = int(input(\"Enter the number of terms: \"))\n",
        "print(\"Fibonacci sequence:\", fibonacci(terms))"
      ],
      "metadata": {
        "colab": {
          "base_uri": "https://localhost:8080/"
        },
        "id": "C1pC4gUNQtwe",
        "outputId": "5caababc-477a-45d8-cf4f-151f20b9d140"
      },
      "execution_count": 15,
      "outputs": [
        {
          "output_type": "stream",
          "name": "stdout",
          "text": [
            "Enter the number of terms: 20\n",
            "Fibonacci sequence: [0, 1, 1, 2, 3, 5, 8, 13, 21, 34, 55, 89, 144, 233, 377, 610, 987, 1597, 2584, 4181]\n"
          ]
        }
      ]
    },
    {
      "cell_type": "markdown",
      "source": [
        "5. Write a program to find the factorial of a given number."
      ],
      "metadata": {
        "id": "6lvEHRifRfBw"
      }
    },
    {
      "cell_type": "code",
      "source": [
        "def factorial(n):\n",
        "  if n == 0:\n",
        "    return 1\n",
        "  else:\n",
        "    return n * factorial(n - 1)\n",
        "num = int(input(\"Enter a number: \"))\n",
        "print(\"Factorial:\", factorial(num))"
      ],
      "metadata": {
        "colab": {
          "base_uri": "https://localhost:8080/"
        },
        "id": "1hf-dyd8RftV",
        "outputId": "9139752a-95cd-41d2-d26d-49dc12b01319"
      },
      "execution_count": 19,
      "outputs": [
        {
          "output_type": "stream",
          "name": "stdout",
          "text": [
            "Enter a number: 20\n",
            "Factorial: 2432902008176640000\n"
          ]
        }
      ]
    },
    {
      "cell_type": "markdown",
      "source": [
        "6. Write a program to calculate the sum of all numbers from 1 to 100.\n"
      ],
      "metadata": {
        "id": "UQzaBsaxSnSM"
      }
    },
    {
      "cell_type": "code",
      "source": [
        "total = sum(range(1, 101))\n",
        "print(\"Sum of numbers from 1 to 100:\", total)"
      ],
      "metadata": {
        "colab": {
          "base_uri": "https://localhost:8080/"
        },
        "id": "nQfRrXcrSoA0",
        "outputId": "65591665-d627-434b-c62f-990f5163eaa1"
      },
      "execution_count": 20,
      "outputs": [
        {
          "output_type": "stream",
          "name": "stdout",
          "text": [
            "Sum of numbers from 1 to 100: 5050\n"
          ]
        }
      ]
    },
    {
      "cell_type": "markdown",
      "source": [
        "7. Write a program to print the multiplication table of a given number."
      ],
      "metadata": {
        "id": "Ji0fWzVwS2VH"
      }
    },
    {
      "cell_type": "code",
      "source": [
        "num = int(input(\"Enter a number: \"))\n",
        "for i in range(1, 11):\n",
        "  print(num, \"x\", i, \"=\", num * i)"
      ],
      "metadata": {
        "colab": {
          "base_uri": "https://localhost:8080/"
        },
        "id": "BepFhYfwS7-5",
        "outputId": "ea736f43-54a9-455c-a81e-e2a757dbc22e"
      },
      "execution_count": 22,
      "outputs": [
        {
          "output_type": "stream",
          "name": "stdout",
          "text": [
            "Enter a number: 12\n",
            "12 x 1 = 12\n",
            "12 x 2 = 24\n",
            "12 x 3 = 36\n",
            "12 x 4 = 48\n",
            "12 x 5 = 60\n",
            "12 x 6 = 72\n",
            "12 x 7 = 84\n",
            "12 x 8 = 96\n",
            "12 x 9 = 108\n",
            "12 x 10 = 120\n"
          ]
        }
      ]
    },
    {
      "cell_type": "markdown",
      "source": [
        "8. Write a program to find the prime numbers between 1 and 100."
      ],
      "metadata": {
        "id": "NsOeb1CDTZdj"
      }
    },
    {
      "cell_type": "code",
      "source": [
        "primes = []\n",
        "for num in range(2, 101):\n",
        "  for i in range(2, num):\n",
        "    if (num % i) == 0:\n",
        "      break\n",
        "  else:\n",
        "    primes.append(num)\n",
        "print(\"Prime numbers between 1 and 100:\", primes)"
      ],
      "metadata": {
        "colab": {
          "base_uri": "https://localhost:8080/"
        },
        "id": "v3bwhVt9TagV",
        "outputId": "b621c2a7-26ce-4dae-c9e1-f433298da16f"
      },
      "execution_count": 26,
      "outputs": [
        {
          "output_type": "stream",
          "name": "stdout",
          "text": [
            "Prime numbers between 1 and 100: [2, 3, 5, 7, 11, 13, 17, 19, 23, 29, 31, 37, 41, 43, 47, 53, 59, 61, 67, 71, 73, 79, 83, 89, 97]\n"
          ]
        }
      ]
    },
    {
      "cell_type": "markdown",
      "source": [
        "9. Write a program to calculate the average of a list of numbers."
      ],
      "metadata": {
        "id": "qJGUfBagUmUJ"
      }
    },
    {
      "cell_type": "code",
      "source": [
        "def average(nums):\n",
        "  return sum(nums) / len(nums)\n",
        "numbers = [int(x) for x in input(\"Enter numbers separated by space: \").split()]\n",
        "print(\"Average:\", average(numbers))\n"
      ],
      "metadata": {
        "colab": {
          "base_uri": "https://localhost:8080/"
        },
        "id": "ukid_8UBUnN6",
        "outputId": "0c234fcc-3db2-4264-fd7a-9309ae4dd3ef"
      },
      "execution_count": 30,
      "outputs": [
        {
          "output_type": "stream",
          "name": "stdout",
          "text": [
            "Enter numbers separated by space: 25 26 36\n",
            "Average: 29.0\n"
          ]
        }
      ]
    },
    {
      "cell_type": "markdown",
      "source": [
        "10. Write a program to count the number of vowels in each string.\n"
      ],
      "metadata": {
        "id": "oHhYC0llZ4ng"
      }
    },
    {
      "cell_type": "code",
      "source": [
        "def count_vowels(string):\n",
        "  vowels = \"aeiouAEIOU\"\n",
        "  count = 0\n",
        "  for char in string:\n",
        "    if char in vowels:\n",
        "      count += 1\n",
        "  return count\n",
        "text = input(\"Enter a string: \")\n",
        "print(\"Number of vowels:\", count_vowels(text))"
      ],
      "metadata": {
        "colab": {
          "base_uri": "https://localhost:8080/"
        },
        "id": "CwF2Tg3nZ5xv",
        "outputId": "f01b7cde-473d-4cb0-db7d-7695683a4490"
      },
      "execution_count": 32,
      "outputs": [
        {
          "output_type": "stream",
          "name": "stdout",
          "text": [
            "Enter a string: Avinash\n",
            "Number of vowels: 3\n"
          ]
        }
      ]
    },
    {
      "cell_type": "markdown",
      "source": [
        "11. Write a function to calculate the area of a circle given its radius.\n"
      ],
      "metadata": {
        "id": "KRFeP1RKaqQC"
      }
    },
    {
      "cell_type": "code",
      "source": [
        "import math\n",
        "def area_of_circle(radius):\n",
        "  return math.pi * radius ** 2\n",
        "r = float(input(\"Enter the radius of the circle: \"))\n",
        "print(\"Area of the circle:\", area_of_circle(r))"
      ],
      "metadata": {
        "colab": {
          "base_uri": "https://localhost:8080/"
        },
        "id": "n4MPNjT7aq_P",
        "outputId": "f774ed56-661b-4d69-8d9c-6a1a1ba820c8"
      },
      "execution_count": 35,
      "outputs": [
        {
          "output_type": "stream",
          "name": "stdout",
          "text": [
            "Enter the radius of the circle: 10\n",
            "Area of the circle: 314.1592653589793\n"
          ]
        }
      ]
    },
    {
      "cell_type": "markdown",
      "source": [
        "12. Write a function to check if a given number is even or odd.\n"
      ],
      "metadata": {
        "id": "chEtAzuFbHyw"
      }
    },
    {
      "cell_type": "code",
      "source": [
        "def is_even(number):\n",
        "  return number % 2 == 0\n",
        "num = int(input(\"Enter a number: \"))\n",
        "if is_even(num):\n",
        "  print(\"Even\")\n",
        "else:\n",
        "  print(\"Odd\")"
      ],
      "metadata": {
        "colab": {
          "base_uri": "https://localhost:8080/"
        },
        "id": "pIrv3lFTbK3W",
        "outputId": "039b85ac-eb2d-47aa-e022-f67a58fc19a1"
      },
      "execution_count": 39,
      "outputs": [
        {
          "output_type": "stream",
          "name": "stdout",
          "text": [
            "Enter a number: 25\n",
            "Odd\n"
          ]
        }
      ]
    },
    {
      "cell_type": "markdown",
      "source": [
        "13. Write a function to reverse a given string.\n"
      ],
      "metadata": {
        "id": "7pfxzMKjcSQI"
      }
    },
    {
      "cell_type": "code",
      "source": [
        "def reverse_string(string):\n",
        "  return string[::-1]\n",
        "text = input(\"Enter a string: \")\n",
        "print(\"Reversed string:\", reverse_string(text))"
      ],
      "metadata": {
        "colab": {
          "base_uri": "https://localhost:8080/"
        },
        "id": "hybr1-bTcTAa",
        "outputId": "de1ba370-d5c5-403f-d02c-b31518892aab"
      },
      "execution_count": 40,
      "outputs": [
        {
          "output_type": "stream",
          "name": "stdout",
          "text": [
            "Enter a string: I love you\n",
            "Reversed string: uoy evol I\n"
          ]
        }
      ]
    },
    {
      "cell_type": "markdown",
      "source": [
        "14. Write a function to check if a given string is a palindrome."
      ],
      "metadata": {
        "id": "3pa4R8rsc3BR"
      }
    },
    {
      "cell_type": "code",
      "source": [
        "def is_palindrome(string):\n",
        "  return string == string[::-1]\n",
        "text = input(\"Enter a string: \")\n",
        "if is_palindrome(text):\n",
        "  print(\"Palindrome\")\n",
        "else:\n",
        "  print(\"Not a palindrome\")"
      ],
      "metadata": {
        "colab": {
          "base_uri": "https://localhost:8080/"
        },
        "id": "Do8r56Obc38p",
        "outputId": "a4218529-f84b-4802-e2a6-4c12e09ea79b"
      },
      "execution_count": 44,
      "outputs": [
        {
          "output_type": "stream",
          "name": "stdout",
          "text": [
            "Enter a string: I am mai\n",
            "Not a palindrome\n"
          ]
        }
      ]
    },
    {
      "cell_type": "markdown",
      "source": [
        "15. Write a function to calculate the square root of a given number."
      ],
      "metadata": {
        "id": "8vy9sb1adlrI"
      }
    },
    {
      "cell_type": "code",
      "source": [
        "def square_root(number):\n",
        "  return number ** 0.5\n",
        "num = float(input(\"Enter a number: \"))\n",
        "print(\"Square root:\", square_root(num))"
      ],
      "metadata": {
        "colab": {
          "base_uri": "https://localhost:8080/"
        },
        "id": "za1PBOsidmmq",
        "outputId": "97bfead8-a2b1-4708-8da5-18b720f589ff"
      },
      "execution_count": 47,
      "outputs": [
        {
          "output_type": "stream",
          "name": "stdout",
          "text": [
            "Enter a number: -9\n",
            "Square root: (1.8369701987210297e-16+3j)\n"
          ]
        }
      ]
    },
    {
      "cell_type": "markdown",
      "source": [
        "16. Write a function to find the greatest common divisor (GCD) of two numbers.\n"
      ],
      "metadata": {
        "id": "9QUyxR2ld6wI"
      }
    },
    {
      "cell_type": "code",
      "source": [
        "def gcd(a, b):\n",
        "  while b:\n",
        "    a, b = b, a % b\n",
        "  return a\n",
        "num1 = int(input(\"Enter first number: \"))\n",
        "num2 = int(input(\"Enter second number: \"))\n",
        "print(\"GCD:\", gcd(num1, num2))\n"
      ],
      "metadata": {
        "colab": {
          "base_uri": "https://localhost:8080/"
        },
        "id": "ugH7e0IOd7wm",
        "outputId": "da82fa11-0750-4700-b0db-a77424f9a861"
      },
      "execution_count": 48,
      "outputs": [
        {
          "output_type": "stream",
          "name": "stdout",
          "text": [
            "Enter first number: 25\n",
            "Enter second number: 26\n",
            "GCD: 1\n"
          ]
        }
      ]
    },
    {
      "cell_type": "markdown",
      "source": [
        "17. Write a function to check if a given number is a perfect square.\n"
      ],
      "metadata": {
        "id": "e0jvG9IQgHDJ"
      }
    },
    {
      "cell_type": "code",
      "source": [
        "import math\n",
        "def is_perfect_square(number):\n",
        "  return math.isqrt(number) ** 2 == number\n",
        "\n",
        "\n",
        "num = int(input(\"Enter a number: \"))\n",
        "if is_perfect_square(num):\n",
        "  print(\"Perfect square\")\n",
        "else:\n",
        "  print(\"Not a perfect square\")"
      ],
      "metadata": {
        "colab": {
          "base_uri": "https://localhost:8080/"
        },
        "id": "NCBHBClPgLEc",
        "outputId": "2b2f38ad-7190-4f2c-f2dd-e36266914c1e"
      },
      "execution_count": 50,
      "outputs": [
        {
          "output_type": "stream",
          "name": "stdout",
          "text": [
            "Enter a number: 69\n",
            "Not a perfect square\n"
          ]
        }
      ]
    },
    {
      "cell_type": "markdown",
      "source": [
        "18. Write a function to generate a list of prime numbers up to a given limit.\n"
      ],
      "metadata": {
        "id": "4MDGGO4kgmOh"
      }
    },
    {
      "cell_type": "code",
      "source": [
        "def generate_primes(limit):\n",
        "  primes = []\n",
        "  for num in range(2, limit ++ 1):\n",
        "    for i in range(2, num):\n",
        "      if (num % i) == 0:\n",
        "        break\n",
        "    else:\n",
        "      primes.append(num)\n",
        "  return primes\n",
        "limit = int(input(\"Enter a limit: \"))\n",
        "print(\"Prime numbers up to\", limit, \":\", generate_primes(limit))"
      ],
      "metadata": {
        "colab": {
          "base_uri": "https://localhost:8080/"
        },
        "id": "PoafuNxpgogj",
        "outputId": "5defc069-cefa-4831-a5c3-24d88450e7e9"
      },
      "execution_count": 53,
      "outputs": [
        {
          "output_type": "stream",
          "name": "stdout",
          "text": [
            "Enter a limit: 100\n",
            "Prime numbers up to 100 : [2, 3, 5, 7, 11, 13, 17, 19, 23, 29, 31, 37, 41, 43, 47, 53, 59, 61, 67, 71, 73, 79, 83, 89, 97]\n"
          ]
        }
      ]
    },
    {
      "cell_type": "markdown",
      "source": [
        "19. Write a function to check if a given string is an anagram of another string.\n"
      ],
      "metadata": {
        "id": "GM4SuCeVjtzH"
      }
    },
    {
      "cell_type": "code",
      "source": [
        "def is_anagram(str1, str2):\n",
        "  return sorted(str1) == sorted(str2)\n",
        "\n",
        "text1 = input(\"Enter first string: \")\n",
        "text2 = input(\"Enter second string: \")\n",
        "if is_anagram(text1, text2):\n",
        "  print(\"Anagram\")\n",
        "else:\n",
        "  print(\"Not an anagram\")\n"
      ],
      "metadata": {
        "colab": {
          "base_uri": "https://localhost:8080/"
        },
        "id": "RkiSGJoKjui7",
        "outputId": "8ac46e34-34c9-4086-e21d-7a1567e2fe70"
      },
      "execution_count": 57,
      "outputs": [
        {
          "output_type": "stream",
          "name": "stdout",
          "text": [
            "Enter first string: ok\n",
            "Enter second string: ko\n",
            "Anagram\n"
          ]
        }
      ]
    },
    {
      "cell_type": "markdown",
      "source": [
        "20. Write a function to calculate the factorial of a given number using recursion.\n"
      ],
      "metadata": {
        "id": "E8RVmpyC0QWY"
      }
    },
    {
      "cell_type": "code",
      "source": [
        "def factorial(n):\n",
        "  if n == 0:\n",
        "    return 1\n",
        "  else:\n",
        "    return n * factorial(n - 1)\n",
        "num = int(input(\"Enter a number: \"))\n",
        "print(\"Factorial:\", factorial(num))"
      ],
      "metadata": {
        "colab": {
          "base_uri": "https://localhost:8080/"
        },
        "id": "sbR6rDF60TL3",
        "outputId": "095e6c7e-4739-4f5a-9c5b-333eaaa89dee"
      },
      "execution_count": 60,
      "outputs": [
        {
          "output_type": "stream",
          "name": "stdout",
          "text": [
            "Enter a number: 12\n",
            "Factorial: 479001600\n"
          ]
        }
      ]
    }
  ]
}