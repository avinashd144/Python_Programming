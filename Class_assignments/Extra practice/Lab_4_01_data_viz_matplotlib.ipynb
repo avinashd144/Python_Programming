{
  "nbformat": 4,
  "nbformat_minor": 0,
  "metadata": {
    "colab": {
      "private_outputs": true,
      "provenance": [],
      "collapsed_sections": [
        "6Tm3O511a5NH",
        "IETtcFCXzSIX",
        "IqgMK4u7zg2y",
        "wTsaP62ca_9y",
        "6IEfdsc_bqkg",
        "LmC_nmM7b-No"
      ]
    },
    "kernelspec": {
      "name": "python3",
      "display_name": "Python 3"
    },
    "language_info": {
      "name": "python"
    }
  },
  "cells": [
    {
      "cell_type": "markdown",
      "metadata": {
        "id": "bMciVd5PfsO1"
      },
      "source": [
        "# Data Visualization using Python"
      ]
    },
    {
      "cell_type": "markdown",
      "source": [
        "\n",
        "\n",
        "Data visualization is a field in data analysis that deals with visual representation of data. It graphically plots data and is an effective way to communicate inferences from data.\n",
        "\n",
        "Using data visualization, we can get a visual summary of our data. With pictures, maps and graphs, the human mind has an easier time processing and understanding any given data. Data visualization plays a significant role in the representation of both small and large data sets, but it is especially useful when we have large data sets, in which it is impossible to see all of our data, let alone process and understand it manually.\n"
      ],
      "metadata": {
        "id": "kH7ogM8J8ETL"
      }
    },
    {
      "cell_type": "markdown",
      "source": [
        "Python offers several plotting libraries, namely Matplotlib, Seaborn and many other such data visualization packages with different features for creating informative, customized, and appealing plots to present data in the most simple and effective way."
      ],
      "metadata": {
        "id": "GoDuiZHk8HFz"
      }
    },
    {
      "cell_type": "markdown",
      "metadata": {
        "id": "6Tm3O511a5NH"
      },
      "source": [
        "#### Using Colab"
      ]
    },
    {
      "cell_type": "markdown",
      "metadata": {
        "id": "-z8Ste2Mf_SA"
      },
      "source": [
        "##Basic plotting in matplotlib"
      ]
    },
    {
      "cell_type": "code",
      "source": [
        "#import matplotlib for 2D visulation\n",
        "import matplotlib.pyplot as plt\n"
      ],
      "metadata": {
        "id": "hycImJQNLPhV"
      },
      "execution_count": null,
      "outputs": []
    },
    {
      "cell_type": "markdown",
      "source": [],
      "metadata": {
        "id": "FhZNwQiL45EK"
      }
    },
    {
      "cell_type": "code",
      "metadata": {
        "id": "vXUEp4BYxNNl"
      },
      "source": [
        "import seaborn as sns\n",
        "#plt.style.use('seaborn-whitegrid')\n",
        "\n",
        "import numpy as np\n",
        "import pandas as pd\n"
      ],
      "execution_count": null,
      "outputs": []
    },
    {
      "cell_type": "markdown",
      "metadata": {
        "id": "IqgMK4u7zg2y"
      },
      "source": [
        "###Histograms"
      ]
    },
    {
      "cell_type": "code",
      "metadata": {
        "id": "03Wc0nPGD7-g"
      },
      "source": [
        "data = np.random.randn(1000)\n"
      ],
      "execution_count": null,
      "outputs": []
    },
    {
      "cell_type": "code",
      "source": [
        "data"
      ],
      "metadata": {
        "id": "N97lcSrj5UIV"
      },
      "execution_count": null,
      "outputs": []
    },
    {
      "cell_type": "code",
      "source": [
        "plt.hist(data);"
      ],
      "metadata": {
        "id": "omCQjbM5Rwkv"
      },
      "execution_count": null,
      "outputs": []
    },
    {
      "cell_type": "markdown",
      "metadata": {
        "id": "An0gAVRuXkD2"
      },
      "source": [
        "The hist() function has many options to tune both the calculation and the display."
      ]
    },
    {
      "cell_type": "code",
      "source": [
        "var=dict(bins=15,\n",
        "         alpha=0.6,\n",
        "         histtype='bar',\n",
        "         color='black',\n",
        "         edgecolor='red')"
      ],
      "metadata": {
        "id": "EQpVgekGOV5_"
      },
      "execution_count": null,
      "outputs": []
    },
    {
      "cell_type": "code",
      "metadata": {
        "id": "L3wVdVbIXmxA"
      },
      "source": [
        "plt.hist(data, **var);"
      ],
      "execution_count": null,
      "outputs": []
    },
    {
      "cell_type": "markdown",
      "metadata": {
        "id": "Eugk5tezYQ3y"
      },
      "source": [
        "Comparing histograms of several distributions"
      ]
    },
    {
      "cell_type": "code",
      "metadata": {
        "id": "L9K8JvsiYQLP"
      },
      "source": [
        "x1 = np.random.normal(0, 0.8, 1000)\n",
        "x2 = np.random.normal(-2, 1, 1000)\n",
        "x3 = np.random.normal(3, 2, 1000)"
      ],
      "execution_count": null,
      "outputs": []
    },
    {
      "cell_type": "code",
      "metadata": {
        "id": "ftE7QmSwYqrr"
      },
      "source": [
        "kwargs = dict(histtype='stepfilled',\n",
        "              alpha=0.5,\n",
        "              density=True,\n",
        "              bins=20)\n",
        "\n",
        "plt.hist(x1, **kwargs)\n",
        "plt.hist(x2, **kwargs)\n",
        "plt.hist(x3, **kwargs);"
      ],
      "execution_count": null,
      "outputs": []
    },
    {
      "cell_type": "markdown",
      "metadata": {
        "id": "wTsaP62ca_9y"
      },
      "source": [
        "## Visualizing some datasets with seaborn"
      ]
    },
    {
      "cell_type": "markdown",
      "metadata": {
        "id": "6IEfdsc_bqkg"
      },
      "source": [
        "####Iris dataset"
      ]
    },
    {
      "cell_type": "code",
      "source": [
        "import sklearn\n",
        "from sklearn import datasets"
      ],
      "metadata": {
        "id": "mwzjZDz0PNXC"
      },
      "execution_count": null,
      "outputs": []
    },
    {
      "cell_type": "code",
      "metadata": {
        "id": "49nifogZbHdX"
      },
      "source": [
        "# Load the iris dataset\n",
        "iris = datasets.load_iris()"
      ],
      "execution_count": null,
      "outputs": []
    },
    {
      "cell_type": "code",
      "source": [
        "# Load it to a pandas dataframe:\n",
        "iris_df = pd.DataFrame(data= np.c_[iris['data'], iris['target']],\n",
        "                     columns= iris['feature_names'] + ['label'])\n",
        "\n",
        "iris_df['label_names'] = iris_df['label'].apply(lambda x: iris.target_names[int(x)])\n",
        "\n"
      ],
      "metadata": {
        "id": "6I3qENFtPPqP"
      },
      "execution_count": null,
      "outputs": []
    },
    {
      "cell_type": "code",
      "source": [
        "iris_df.head(3)"
      ],
      "metadata": {
        "id": "yrZPL_SEDqch"
      },
      "execution_count": null,
      "outputs": []
    },
    {
      "cell_type": "code",
      "source": [
        "iris_df.tail()"
      ],
      "metadata": {
        "id": "WtIhI8gHEDMA"
      },
      "execution_count": null,
      "outputs": []
    },
    {
      "cell_type": "code",
      "source": [
        "import seaborn as sns\n",
        "df=sns.load_dataset('iris')\n",
        "df.head()"
      ],
      "metadata": {
        "id": "GoiN3vLj6-J5"
      },
      "execution_count": null,
      "outputs": []
    },
    {
      "cell_type": "code",
      "source": [
        "# Let's have a look at how the data looks like\n",
        "display(iris_df)"
      ],
      "metadata": {
        "id": "fM5Wyy3BPRNt"
      },
      "execution_count": null,
      "outputs": []
    },
    {
      "cell_type": "code",
      "source": [
        "iris_df.shape"
      ],
      "metadata": {
        "id": "cSxZmlNYRdLc"
      },
      "execution_count": null,
      "outputs": []
    },
    {
      "cell_type": "code",
      "source": [
        "iris_df.head()"
      ],
      "metadata": {
        "id": "NaxQBsvdapR1"
      },
      "execution_count": null,
      "outputs": []
    },
    {
      "cell_type": "code",
      "source": [
        "iris_df.tail()"
      ],
      "metadata": {
        "id": "oqMEyjKfaxEc"
      },
      "execution_count": null,
      "outputs": []
    },
    {
      "cell_type": "code",
      "source": [
        "iris_df.shape"
      ],
      "metadata": {
        "id": "KYnQWPOxbuOC"
      },
      "execution_count": null,
      "outputs": []
    },
    {
      "cell_type": "code",
      "source": [
        "iris_df.info()"
      ],
      "metadata": {
        "id": "QY-rTW-tb8NR"
      },
      "execution_count": null,
      "outputs": []
    },
    {
      "cell_type": "code",
      "source": [
        "iris_df.head(3)"
      ],
      "metadata": {
        "id": "MRetQg61EV42"
      },
      "execution_count": null,
      "outputs": []
    },
    {
      "cell_type": "code",
      "source": [
        "plt.scatter(iris_df['petal length (cm)'], iris_df['sepal length (cm)'])"
      ],
      "metadata": {
        "id": "RCZrMM1y7fdh"
      },
      "execution_count": null,
      "outputs": []
    },
    {
      "cell_type": "code",
      "metadata": {
        "id": "eASPNiL9bU-r"
      },
      "source": [
        "# Visualize the data using Matplotlib\n",
        "import matplotlib.pyplot as plt\n",
        "\n",
        "colours = ['orange', 'blue', 'green']\n",
        "species = iris.target_names\n",
        "\n",
        "f = plt.figure(figsize=(12,6))\n",
        "\n",
        "for i in range(0, 3):\n",
        "    species_df = iris_df[iris_df['label'] == i]\n",
        "    plt.scatter(\n",
        "        species_df['petal length (cm)'],\n",
        "        species_df['sepal length (cm)'],\n",
        "        color=colours[i],\n",
        "        alpha=0.5,\n",
        "        label=species[i]\n",
        "    )\n",
        "plt.xlabel('petal length (cm)')\n",
        "plt.ylabel('sepal length (cm)')\n",
        "plt.title('Iris dataset: petal length vs sepal length')\n",
        "plt.legend(loc='upper left')\n",
        "plt.show()"
      ],
      "execution_count": null,
      "outputs": []
    },
    {
      "cell_type": "code",
      "source": [
        "iris_df.head()"
      ],
      "metadata": {
        "id": "Gw535s8LFC1N"
      },
      "execution_count": null,
      "outputs": []
    },
    {
      "cell_type": "code",
      "metadata": {
        "id": "EnhOPF2Lbkf4"
      },
      "source": [
        "# Visualize the data using Seaborn\n",
        "# Matrix scatter plot.\n",
        "\n",
        "import seaborn as sns\n",
        "\n",
        "sns.set_style(\"darkgrid\")\n",
        "sns.pairplot(iris_df[iris.feature_names + ['label_names']], hue=\"label_names\",height=2);"
      ],
      "execution_count": null,
      "outputs": []
    },
    {
      "cell_type": "markdown",
      "metadata": {
        "id": "LmC_nmM7b-No"
      },
      "source": [
        "#### Cars dataset"
      ]
    },
    {
      "cell_type": "markdown",
      "source": [
        "## Data Preparation and Cleaning"
      ],
      "metadata": {
        "id": "1dZyQ5qsZFxZ"
      }
    },
    {
      "cell_type": "markdown",
      "source": [
        "Upload the dataset *car.csv* before running the following code snippets."
      ],
      "metadata": {
        "id": "x1ms3GFKYlsT"
      }
    },
    {
      "cell_type": "markdown",
      "source": [
        "#### Import all dependencies  "
      ],
      "metadata": {
        "id": "QfGX2kA_ZTpb"
      }
    },
    {
      "cell_type": "code",
      "source": [
        "%matplotlib inline\n",
        "sns.set(color_codes=True)"
      ],
      "metadata": {
        "id": "k-eJrLaNXWRC"
      },
      "execution_count": null,
      "outputs": []
    },
    {
      "cell_type": "code",
      "source": [
        "# load dataset from directory\n",
        "cardf = pd.read_csv(\"Car_data.csv\")\n"
      ],
      "metadata": {
        "id": "WSQ3U9wZXZzG"
      },
      "execution_count": null,
      "outputs": []
    },
    {
      "cell_type": "code",
      "source": [
        "cardf"
      ],
      "metadata": {
        "id": "1W221Mv3oQO8"
      },
      "execution_count": null,
      "outputs": []
    },
    {
      "cell_type": "code",
      "source": [
        "# display toop 5 rows\n",
        "cardf.head()"
      ],
      "metadata": {
        "id": "NRbkBKJvfY2g"
      },
      "execution_count": null,
      "outputs": []
    },
    {
      "cell_type": "code",
      "source": [
        "cardf.tail(5)"
      ],
      "metadata": {
        "id": "3clKXIoCXnn3"
      },
      "execution_count": null,
      "outputs": []
    },
    {
      "cell_type": "code",
      "source": [
        "cardf.shape"
      ],
      "metadata": {
        "id": "t5Nyo91IouOG"
      },
      "execution_count": null,
      "outputs": []
    },
    {
      "cell_type": "markdown",
      "source": [
        "#### Check the dataType of all the columns of Dataset"
      ],
      "metadata": {
        "id": "IeHYLglhZbtl"
      }
    },
    {
      "cell_type": "code",
      "source": [
        "cardf.dtypes"
      ],
      "metadata": {
        "id": "lkGUAnAOYQUo"
      },
      "execution_count": null,
      "outputs": []
    },
    {
      "cell_type": "code",
      "source": [
        "cardf.info()"
      ],
      "metadata": {
        "id": "8KnaBecgV8ka"
      },
      "execution_count": null,
      "outputs": []
    },
    {
      "cell_type": "markdown",
      "source": [
        "#### Checking the number of rows and columns present"
      ],
      "metadata": {
        "id": "xgX7C06JZf9U"
      }
    },
    {
      "cell_type": "code",
      "source": [
        "cardf.shape"
      ],
      "metadata": {
        "id": "dxM2iQGrYdys"
      },
      "execution_count": null,
      "outputs": []
    },
    {
      "cell_type": "code",
      "source": [
        "cardf.describe()   ## gettign the details of all integer column from dataset like mean, median, avg, max,min etc"
      ],
      "metadata": {
        "id": "sZ0Jp7EeYhl3"
      },
      "execution_count": null,
      "outputs": []
    },
    {
      "cell_type": "code",
      "source": [
        "cardf.Volume.mean()"
      ],
      "metadata": {
        "id": "sPgiF9zqY-mU"
      },
      "execution_count": null,
      "outputs": []
    },
    {
      "cell_type": "markdown",
      "source": [
        "#### Removed the duplicate rows, If any  and verify using shape function."
      ],
      "metadata": {
        "id": "5UpvdXTKZlxU"
      }
    },
    {
      "cell_type": "code",
      "source": [
        "df = cardf.drop_duplicates()"
      ],
      "metadata": {
        "id": "TCEXoqUBZsiG"
      },
      "execution_count": null,
      "outputs": []
    },
    {
      "cell_type": "code",
      "source": [
        "df.shape"
      ],
      "metadata": {
        "id": "1nvJzKEa-QKS"
      },
      "execution_count": null,
      "outputs": []
    },
    {
      "cell_type": "code",
      "source": [
        "cardf.count()"
      ],
      "metadata": {
        "id": "mIR_VuEKXUT0"
      },
      "execution_count": null,
      "outputs": []
    },
    {
      "cell_type": "code",
      "source": [
        "cardf.shape"
      ],
      "metadata": {
        "id": "6j55VuEnZwDO"
      },
      "execution_count": null,
      "outputs": []
    },
    {
      "cell_type": "code",
      "source": [
        "cardf.head(5)"
      ],
      "metadata": {
        "id": "zcuODVU2Z1hY"
      },
      "execution_count": null,
      "outputs": []
    },
    {
      "cell_type": "markdown",
      "source": [
        "#### Rename the column from big column name to smaller name"
      ],
      "metadata": {
        "id": "VCNAwSigZ-m4"
      }
    },
    {
      "cell_type": "code",
      "source": [
        "cardf.head(5)"
      ],
      "metadata": {
        "id": "0Ludjnnm-tfa"
      },
      "execution_count": null,
      "outputs": []
    },
    {
      "cell_type": "code",
      "source": [
        "cardf = cardf.rename(columns={\"Engine Fuel Type\":\"Fuel Type\",\"Engine HP\": \"HP\", \"Engine Cylinders\": \"Cylinders\", \"Transmission Type\": \"Transmission\", \"Driven_Wheels\":\n",
        "                              \"Drive Mode\",\"highway MPG\": \"MPG-H\", \"city mpg\": \"MPG-C\", \"MSRP\": \"Price\" })\n",
        "cardf.head(10)"
      ],
      "metadata": {
        "id": "sb6qJbyMaBoo"
      },
      "execution_count": null,
      "outputs": []
    },
    {
      "cell_type": "markdown",
      "source": [
        "#### Removing the rows with null values/missing values from dataset"
      ],
      "metadata": {
        "id": "5fiy-qUuaGjS"
      }
    },
    {
      "cell_type": "code",
      "source": [
        "cardf.info()"
      ],
      "metadata": {
        "id": "MmMEZMstlqvy"
      },
      "execution_count": null,
      "outputs": []
    },
    {
      "cell_type": "code",
      "source": [
        "cardf.shape"
      ],
      "metadata": {
        "id": "34HFATc_rDe8"
      },
      "execution_count": null,
      "outputs": []
    },
    {
      "cell_type": "code",
      "source": [
        "cardf.count()"
      ],
      "metadata": {
        "id": "JJyIzfasq_PS"
      },
      "execution_count": null,
      "outputs": []
    },
    {
      "cell_type": "code",
      "source": [
        "print(cardf.isnull().sum())"
      ],
      "metadata": {
        "id": "07Hsc3_QaJJb"
      },
      "execution_count": null,
      "outputs": []
    },
    {
      "cell_type": "code",
      "source": [
        "cardf = cardf.dropna()\n"
      ],
      "metadata": {
        "id": "eHi7-Tg5aTKm"
      },
      "execution_count": null,
      "outputs": []
    },
    {
      "cell_type": "code",
      "source": [
        "cardf.count()  ## Now every fields has values and all fields count are same."
      ],
      "metadata": {
        "id": "F3ApVS7gYOu_"
      },
      "execution_count": null,
      "outputs": []
    },
    {
      "cell_type": "code",
      "source": [
        "cardf.info()"
      ],
      "metadata": {
        "id": "x2hTPdFraXBM"
      },
      "execution_count": null,
      "outputs": []
    },
    {
      "cell_type": "code",
      "source": [
        "import matplotlib\n",
        "%matplotlib inline\n",
        "\n",
        "sns.set_style('darkgrid')\n",
        "matplotlib.rcParams['font.size'] = 14\n",
        "matplotlib.rcParams['figure.figsize'] = (9, 5)\n",
        "matplotlib.rcParams['figure.facecolor'] = '#00000000'"
      ],
      "metadata": {
        "id": "c3o4qefKadYv"
      },
      "execution_count": null,
      "outputs": []
    },
    {
      "cell_type": "code",
      "source": [],
      "metadata": {
        "id": "4vZbYmF8rfIp"
      },
      "execution_count": null,
      "outputs": []
    },
    {
      "cell_type": "markdown",
      "source": [
        "## Exploratory Analysis and Visualization\n",
        "\n",
        "In this Part we wil try to explore more about the data insigts. In previous part we have cleaned the data and now that clened processed data need to be analysed to gather some usefull info like mean, meadian and various relationship.\n"
      ],
      "metadata": {
        "id": "OvUtofQgarc6"
      }
    },
    {
      "cell_type": "markdown",
      "source": [
        "Find the top 40 Company and number of cars made by them . Visualize them using a bar plot."
      ],
      "metadata": {
        "id": "-l19l95Nal3O"
      }
    },
    {
      "cell_type": "code",
      "source": [
        "cardf.Make.value_counts().nlargest(5).plot(kind='bar', figsize=(10,5))\n",
        "plt.title(\"Number of cars by Company (Make)\")\n",
        "plt.ylabel('Number of cars')\n",
        "plt.xlabel('Company (Make)');"
      ],
      "metadata": {
        "id": "h2VXVhwtaiaU"
      },
      "execution_count": null,
      "outputs": []
    },
    {
      "cell_type": "code",
      "source": [
        "plt.figure(figsize=(16,8))\n",
        "plt1 = cardf.Make.value_counts().plot(kind='bar')\n",
        "plt.title('Companies Histogram')\n",
        "plt1.set(xlabel = 'Make', ylabel='Number of cars')"
      ],
      "metadata": {
        "id": "1Q9rmStXawNF"
      },
      "execution_count": null,
      "outputs": []
    },
    {
      "cell_type": "code",
      "source": [
        "cardf.head()"
      ],
      "metadata": {
        "id": "P77XBIovmxlt"
      },
      "execution_count": null,
      "outputs": []
    },
    {
      "cell_type": "markdown",
      "source": [
        "Explore the relationship between engine Size and prce of the cars"
      ],
      "metadata": {
        "id": "KTY5ibQaa1qs"
      }
    },
    {
      "cell_type": "code",
      "metadata": {
        "id": "ayuGSz07cAf4"
      },
      "source": [
        "plt.figure(figsize=(20,8))\n",
        "plt.subplot(1,2,1)\n",
        "plt.title('Car Price vs Engine Size plot ')\n",
        "sns.regplot(x='HP',y='Price',data=cardf)"
      ],
      "execution_count": null,
      "outputs": []
    },
    {
      "cell_type": "code",
      "metadata": {
        "id": "EpKWVdPzcGSg"
      },
      "source": [
        "plt.figure(figsize=(30,12))\n",
        "plt.title('Car Price vs Engine Size plot ')\n",
        "sns.regplot(x='MPG-H',y='Price',data=cardf)"
      ],
      "execution_count": null,
      "outputs": []
    },
    {
      "cell_type": "markdown",
      "metadata": {
        "id": "I4hBssXicuYs"
      },
      "source": [
        "Explore the dataset with respect to Company name, Vehicle size and Price of the car"
      ]
    },
    {
      "cell_type": "markdown",
      "source": [
        "Visualization the top 100 Make of cars based on their prices"
      ],
      "metadata": {
        "id": "kAYF0GV5IwoQ"
      }
    },
    {
      "cell_type": "code",
      "source": [
        "df=cardf.iloc[1:100]"
      ],
      "metadata": {
        "id": "uy8BE5f_Ihos"
      },
      "execution_count": null,
      "outputs": []
    },
    {
      "cell_type": "code",
      "source": [
        "df4=cardf.iloc[100:]"
      ],
      "metadata": {
        "id": "kqy3LPo7OFvf"
      },
      "execution_count": null,
      "outputs": []
    },
    {
      "cell_type": "code",
      "source": [
        "df4.head()"
      ],
      "metadata": {
        "id": "CiBkdmOHOJ7w"
      },
      "execution_count": null,
      "outputs": []
    },
    {
      "cell_type": "code",
      "metadata": {
        "id": "mwFPpqWhcwOs"
      },
      "source": [
        "plt.figure(figsize=(10,5))\n",
        "sns.boxplot(x='Make',y='Price',hue='Vehicle Size',data=df)"
      ],
      "execution_count": null,
      "outputs": []
    },
    {
      "cell_type": "markdown",
      "source": [
        "#### Describe the relationship between Price and Vehicle Size"
      ],
      "metadata": {
        "id": "YgXUjfiPbgB9"
      }
    },
    {
      "cell_type": "code",
      "metadata": {
        "id": "WU0e5Fw0eggb"
      },
      "source": [
        "sns.boxplot(x='Vehicle Size',y=\"Price\",data=df) # box"
      ],
      "execution_count": null,
      "outputs": []
    },
    {
      "cell_type": "markdown",
      "source": [
        "We have plotted the multilpe graph with given daset to find the relationship between Fueltype , price and Avg price."
      ],
      "metadata": {
        "id": "m2m1XXTEbmXN"
      }
    },
    {
      "cell_type": "code",
      "metadata": {
        "id": "nCDgYFuneo2-",
        "collapsed": true
      },
      "source": [
        "plt.figure(figsize=(20,8))\n",
        "\n",
        "plt.subplot(1,2,1)\n",
        "plt.title('Fuel Type Histogram')\n",
        "sns.countplot(y=cardf['Fuel Type'], palette=(\"Blues_d\"))\n",
        "\n",
        "plt.subplot(1,2,2)\n",
        "plt.title('Fuel Type vs Price')\n",
        "sns.boxplot(x=df['Fuel Type'], y=df.Price, palette=(\"PuBuGn\"))\n",
        "\n",
        "plt.show()\n",
        "\n",
        "df2 = pd.DataFrame(df.groupby(['Fuel Type'])['Price'].mean().sort_values(ascending = False))\n",
        "df2.plot.bar(figsize=(8,6))\n",
        "plt.title('Fuel Type vs Average Price')\n",
        "plt.show()"
      ],
      "execution_count": null,
      "outputs": []
    },
    {
      "cell_type": "markdown",
      "source": [
        "#### Derive a relationship between the price of car and number of doors present in the car."
      ],
      "metadata": {
        "id": "KS86RW11buMD"
      }
    },
    {
      "cell_type": "code",
      "source": [
        "plt.subplot(1,2,1)\n",
        "plt.title('Door Number Histogram')\n",
        "sns.countplot(df['Number of Doors'], palette=(\"plasma\"))\n",
        "\n",
        "plt.subplot(1,2,2)\n",
        "plt.title('Door Number vs Price')\n",
        "sns.boxplot(x=df['Number of Doors'], y=df.Price, palette=(\"plasma\"))\n",
        "plt.tight_layout(pad=2)\n",
        "\n",
        "plt.show()"
      ],
      "metadata": {
        "id": "Z2i4QpuWbw49"
      },
      "execution_count": null,
      "outputs": []
    }
  ]
}