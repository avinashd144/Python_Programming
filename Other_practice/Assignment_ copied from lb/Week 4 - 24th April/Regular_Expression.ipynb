{
  "nbformat": 4,
  "nbformat_minor": 0,
  "metadata": {
    "colab": {
      "name": "Regular_Expression.ipynb",
      "provenance": []
    },
    "kernelspec": {
      "name": "python3",
      "display_name": "Python 3"
    }
  },
  "cells": [
    {
      "cell_type": "code",
      "metadata": {
        "id": "xMLU30SQxZCH"
      },
      "source": [
        "#Write the regular expression and use proper method which gives output as:- 'cat' in str.\n",
        "import re\n",
        "str = 'cat mat bat rat'\n"
      ],
      "execution_count": null,
      "outputs": []
    },
    {
      "cell_type": "code",
      "metadata": {
        "id": "zMiSTGMHx6Dv"
      },
      "source": [
        "#Write the regular expression and use proper method which gives output as:- 'rat' in str.\n",
        "import re\n",
        "str = 'cat mat bat rat'\n"
      ],
      "execution_count": null,
      "outputs": []
    },
    {
      "cell_type": "code",
      "metadata": {
        "id": "qBoYFjf5x6Mm"
      },
      "source": [
        "#Write the regular expression and use proper method which gives output as:- ['mat', 'man'] in str.\n",
        "import re\n",
        "str = 'cat mat bat rat man'\n"
      ],
      "execution_count": null,
      "outputs": []
    },
    {
      "cell_type": "code",
      "metadata": {
        "id": "qmxmqzX_x6QR"
      },
      "source": [
        "#Write the regular expression and use proper method which gives output as:- \n",
        "#['Python', 's', 'Programming', 'is', 'very', 'easy', 'to', 'learn'] in str.\n",
        "import re\n",
        "str = \"Python's Programming: is very easy to learn\"\n"
      ],
      "execution_count": null,
      "outputs": []
    },
    {
      "cell_type": "code",
      "metadata": {
        "id": "LxGl1o7px6Vi"
      },
      "source": [
        "#Write the regular expression and use proper method which gives output as:- Python Programming: is very easy to learn in str.\n",
        "import re\n",
        "str = \"Python's Programming: is very easy to learn\"\n"
      ],
      "execution_count": null,
      "outputs": []
    },
    {
      "cell_type": "code",
      "metadata": {
        "id": "9uIpb614x6Yb"
      },
      "source": [
        "#Write the regular expression and use proper method which Retrieves all words starting with p.\n",
        "#Output:- ['peter', 'per', 'picked', 'peck', 'pickled', 'peppers']\n",
        "import re\n",
        "str = \"peter giper picked a peck of pickled peppers\"\n"
      ],
      "execution_count": null,
      "outputs": []
    },
    {
      "cell_type": "code",
      "metadata": {
        "id": "N0vFkePdx6bN"
      },
      "source": [
        "#Write the regular expression and use proper method which Retrieves all words starting with p except 'per' which is not a separate word.\n",
        "#Output:- ['peter', 'picked', 'peck', 'pickled', 'peppers']\n",
        "import re\n",
        "str = \"peter giper picked a peck of pickled peppers\"\n"
      ],
      "execution_count": null,
      "outputs": []
    },
    {
      "cell_type": "code",
      "metadata": {
        "id": "mbiypO3yx6eE"
      },
      "source": [
        "#Write the regular expression and use proper method which Retrieves all words starting with a digit.\n",
        "#Output:- ['8th', '11th']\n",
        "import re\n",
        "str = 'The election in delhi will be held on 8th and result for the same will be declared on 11th'\n"
      ],
      "execution_count": null,
      "outputs": []
    },
    {
      "cell_type": "code",
      "metadata": {
        "id": "6ZUWWd6bx6g8"
      },
      "source": [
        "#Write the regular expression and use proper method which Retrieves all words having 5 characters.\n",
        "#Output:- ['peter', 'giper']\n",
        "import re\n",
        "str = \"peter giper picked a peck of pickled peppers\"\n"
      ],
      "execution_count": null,
      "outputs": []
    },
    {
      "cell_type": "code",
      "metadata": {
        "id": "syuXvEXox6jt"
      },
      "source": [
        "#Write the regular expression and use proper method which Retrieves all words having at least 4 characters.\n",
        "#Output:- ['Retrieving',  'words', 'having', 'least', 'characters']\n",
        "import re\n",
        "str = \"Retrieving all words having at least 4 characters\"\n"
      ],
      "execution_count": null,
      "outputs": []
    },
    {
      "cell_type": "code",
      "metadata": {
        "id": "MtXo1Hf8x6ma"
      },
      "source": [
        "#Write the regular expression and use proper method which Retrieves all words having at characters between 3 to 5 words.\n",
        "#Output:- ['all', 'words', 'least']\n",
        "import re\n",
        "str = \"Retrieving all words having at least 4 characters\"\n"
      ],
      "execution_count": null,
      "outputs": []
    },
    {
      "cell_type": "code",
      "metadata": {
        "id": "RlvMct7xx6pE"
      },
      "source": [
        "#Write the regular expression and use proper method which Retrieves only digits from the string.\n",
        "#Output:- ['8', '11']\n",
        "import re\n",
        "str = 'The election in delhi will be held on 8 and result for the same will be declared on 11'\n"
      ],
      "execution_count": null,
      "outputs": []
    },
    {
      "cell_type": "code",
      "metadata": {
        "id": "wdD4cSyJx6us"
      },
      "source": [
        "#Write the regular expression and use proper method which Retrieves last word if starts with c from the given string.\n",
        "#Output:- ['characters']\n",
        "import re\n",
        "str = \"Retrieving all words having at least 4 characters\"\n",
        "\n"
      ],
      "execution_count": null,
      "outputs": []
    },
    {
      "cell_type": "code",
      "metadata": {
        "id": "HsVGzJVbx6sl"
      },
      "source": [
        "#Write the regular expression and use proper method which Retrieves a phone number from the given string.\n",
        "#Output:- 1234567890\n",
        "import re\n",
        "str = \"Learnbay : 1234567890\"\n"
      ],
      "execution_count": null,
      "outputs": []
    },
    {
      "cell_type": "code",
      "metadata": {
        "id": "LvG3jTtvyQKk"
      },
      "source": [
        "##Write the regular expression and use proper method which Etracts name from the string but not number.\n",
        "#Output:- Learnbay : \n",
        "import re\n",
        "str = \"Learnbay : 1234567890\"\n"
      ],
      "execution_count": null,
      "outputs": []
    },
    {
      "cell_type": "code",
      "metadata": {
        "id": "drArGXgKyQNz"
      },
      "source": [
        "##Write the regular expression and use proper method which Retrieves name starting with 'an' or 'ak'.\n",
        "#Output:- ['anil', 'akhil', 'anant', 'ankur']\n",
        "import re\n",
        "str = 'anil akhil anant abhi arun arati arundhati abhijit ankur'\n",
        "\n"
      ],
      "execution_count": null,
      "outputs": []
    }
  ]
}