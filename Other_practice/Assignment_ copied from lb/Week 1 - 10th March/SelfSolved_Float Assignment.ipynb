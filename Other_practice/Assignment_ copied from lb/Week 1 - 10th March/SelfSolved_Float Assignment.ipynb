{
 "cells": [
  {
   "cell_type": "markdown",
   "id": "0af131e2-3774-4801-a65c-1877e5d3aa85",
   "metadata": {},
   "source": [
    "Q. Declare a float value and store it in a variable. \n",
    "Check the type and print the id of the same. "
   ]
  },
  {
   "cell_type": "code",
   "execution_count": 1,
   "id": "5388405f-278f-4bbc-8bbc-c709bcdefa6f",
   "metadata": {},
   "outputs": [
    {
     "name": "stdout",
     "output_type": "stream",
     "text": [
      "12.3 <class 'float'> 1947188505744\n"
     ]
    }
   ],
   "source": [
    "float_val1 = 12.3\n",
    "print(float_val1, type(float_val1), id(float_val1))"
   ]
  },
  {
   "cell_type": "code",
   "execution_count": null,
   "id": "a2dcb8fb-dcbf-41ec-adee-0fd5b65313f3",
   "metadata": {},
   "outputs": [],
   "source": [
    "Q. Arithmetic Operations on float \n",
    "Take two different float values. \n",
    "Store them in two different variables. \n",
    "Do below operations on them:- \n",
    "   Find sum of both numbers \n",
    "   Find difference between them \n",
    "   Find the product of both numbers. \n",
    "   Find value after dividing first num with second number \n",
    "   Find the remainder after dividing first number with second number \n",
    "   Find the quotient after dividing first number with second number \n",
    "   Find the result of the first num to the power of the second number."
   ]
  },
  {
   "cell_type": "code",
   "execution_count": 17,
   "id": "d9ae3626-d163-41d8-9d92-e58821cc48ad",
   "metadata": {},
   "outputs": [
    {
     "name": "stdin",
     "output_type": "stream",
     "text": [
      "Enter a number with decimal point: 56.3\n",
      "Enter another number with decimal point: 3.2\n"
     ]
    },
    {
     "name": "stdout",
     "output_type": "stream",
     "text": [
      "56.3 <class 'float'> 1947189790800\n",
      "3.2 <class 'float'> 1947188505584\n",
      "---------Results--------\n",
      "sum of both numbers 56.3,3.2 is: 59.5\n",
      "difference between them 56.3,3.2 is: 53.099999999999994\n",
      "the product of both numbers 56.3,3.2 is: 180.16\n",
      "after dividing first num with second number 56.3,3.2 is: 17.593749999999996\n",
      "remainder after dividing first number with second number 56.3,3.2 is: 1.8999999999999941\n",
      "quotient after dividing first number with second number 56.3,3.2 is: 17.0\n",
      "result of the first num to the power of the second number 56.3,3.2 is: 399601.27341115644\n"
     ]
    }
   ],
   "source": [
    "float_val1 = float(input('Enter a number with decimal point:'))\n",
    "float_val2 = float(input('Enter another number with decimal point:'))\n",
    "print(float_val1, type(float_val1), id(float_val1))\n",
    "print(float_val2, type(float_val2), id(float_val2))\n",
    "print('---------Results--------')\n",
    "print(f'sum of both numbers {float_val1},{float_val2} is:',float_val1+float_val2)\n",
    "print(f'difference between them {float_val1},{float_val2} is:',float_val1-float_val2)\n",
    "print(f'the product of both numbers {float_val1},{float_val2} is:',float_val1*float_val2)\n",
    "print(f'after dividing first num with second number {float_val1},{float_val2} is:',float_val1/float_val2)\n",
    "print(f'remainder after dividing first number with second number {float_val1},{float_val2} is:',float_val1%float_val2)\n",
    "print(f'quotient after dividing first number with second number {float_val1},{float_val2} is:',float_val1//float_val2)\n",
    "print(f'result of the first num to the power of the second number {float_val1},{float_val2} is:',float_val1**float_val2)"
   ]
  },
  {
   "cell_type": "code",
   "execution_count": null,
   "id": "b7490340-bc82-498b-a44f-32ad43cb66ee",
   "metadata": {},
   "outputs": [],
   "source": [
    "Q. Comparison Operators on float \n",
    "Take two different float values. \n",
    "Store them in two different variables. \n",
    "Do below operations on them:- \n",
    "   Compare these two numbers with below operator:- \n",
    "       Greater than, '>' \n",
    " Smaller than, '<' \n",
    " Greater than or equal to, '>=' \n",
    " Less than or equal to, '<=' \n",
    "Observe their output(return type should be boolean) "
   ]
  },
  {
   "cell_type": "code",
   "execution_count": 6,
   "id": "409a2aef-69fd-4944-b016-6fa04637d0e6",
   "metadata": {},
   "outputs": [
    {
     "name": "stdin",
     "output_type": "stream",
     "text": [
      "Enter a number with decimal point: 2\n",
      "Enter another number with decimal point: 3\n"
     ]
    },
    {
     "name": "stdout",
     "output_type": "stream",
     "text": [
      "2.0 <class 'float'> 1947188503888\n",
      "3.0 <class 'float'> 1947188497840\n",
      "---------Results--------\n",
      "Greater than, '>' False\n",
      "Smaller than, '<' True\n",
      "Greater than or equal to, '>=' False\n",
      "Less than or equal to, '<='  True\n"
     ]
    }
   ],
   "source": [
    "float_val1 = float(input('Enter a number with decimal point:'))\n",
    "float_val2 = float(input('Enter another number with decimal point:'))\n",
    "print(float_val1, type(float_val1), id(float_val1))\n",
    "print(float_val2, type(float_val2), id(float_val2))\n",
    "print('---------Results--------')\n",
    "print(\"Greater than, '>'\",float_val1>float_val2)\n",
    "print(\"Smaller than, '<'\",float_val1<float_val2)\n",
    "print(\"Greater than or equal to, '>='\",float_val1>=float_val2)\n",
    "print(\"Less than or equal to, '<=' \",float_val1<=float_val2)\n"
   ]
  },
  {
   "cell_type": "code",
   "execution_count": null,
   "id": "158d5749-abf0-40ee-a75e-9adc26d1b613",
   "metadata": {},
   "outputs": [],
   "source": [
    "Q. Equality Operator \n",
    "Take two different float values. \n",
    "Store them in two different variables. \n",
    "Equate them using equality operators (==, !=) \n",
    "Observe the output(return type should be boolean) "
   ]
  },
  {
   "cell_type": "code",
   "execution_count": 7,
   "id": "1803c72f-a199-434c-b3a0-131bdad91f6f",
   "metadata": {},
   "outputs": [
    {
     "name": "stdin",
     "output_type": "stream",
     "text": [
      "Enter a number with decimal point: 3\n",
      "Enter another number with decimal point: 6\n"
     ]
    },
    {
     "name": "stdout",
     "output_type": "stream",
     "text": [
      "3.0 <class 'float'> 1947188505584\n",
      "6.0 <class 'float'> 1947188506032\n",
      "---------Results--------\n",
      "Equate them using equality operators == False\n",
      "Equate them using equality operators != True\n"
     ]
    }
   ],
   "source": [
    "float_val1 = float(input('Enter a number with decimal point:'))\n",
    "float_val2 = float(input('Enter another number with decimal point:'))\n",
    "print(float_val1, type(float_val1), id(float_val1))\n",
    "print(float_val2, type(float_val2), id(float_val2))\n",
    "print('---------Results--------')\n",
    "print('Equate them using equality operators ==',float_val1==float_val2)\n",
    "print('Equate them using equality operators !=',float_val1!=float_val2)"
   ]
  },
  {
   "cell_type": "code",
   "execution_count": 8,
   "id": "a233fbb5-ff0a-44a9-b47f-bff61465298a",
   "metadata": {},
   "outputs": [
    {
     "name": "stdout",
     "output_type": "stream",
     "text": [
      "20.3\n",
      "0.0\n",
      "0.0\n",
      "0.0\n",
      "10.2\n",
      "20.3\n",
      "20.3\n",
      "0.0\n",
      "False\n",
      "True\n"
     ]
    }
   ],
   "source": [
    "# Q. Logical operators \n",
    "# Observe the output of below code \n",
    "# Cross check the output manually \n",
    " \n",
    "print(10.20 and 20.30)       #both are true and second value taken \n",
    "# >Output is 20.3 \n",
    " \n",
    "print(0.0 and 20.30)         #First is false so first value \n",
    "# taken->Output is 0.0 \n",
    " \n",
    "print(20.30 and 0.0)         #Goes to till second and second value is \n",
    "# false so second is taken>Output is 0.0 \n",
    " \n",
    "print(0.0 and 0.0)           #First is false so first value is \n",
    "# taken->Output is 0.0 \n",
    " \n",
    "print(10.20 or 20.30)        #First is True so first value is \n",
    "# taken>Output is 10.2 \n",
    " \n",
    "print(0.0 or 20.30)          #Goes to till second and second is true \n",
    "# second value is taken->Output is 20.3 \n",
    " \n",
    "print(20.30 or 0.0)          #First is True so first value is \n",
    "# taken->Output is 20.3 \n",
    " \n",
    "print(0.0 or 0.0)            #Goes to till second and second is also \n",
    "# false and second value is taken>Output is 0.0 \n",
    " \n",
    "print(not 10.20)             #-Not of true is false->Output is False \n",
    " \n",
    "print(not 0.0)               #Not of false is True>Output is True"
   ]
  },
  {
   "cell_type": "code",
   "execution_count": null,
   "id": "c1b84368-2fda-4e12-bce1-ebbe99d7e6a3",
   "metadata": {},
   "outputs": [],
   "source": [
    "Q. What is the output of expression inside print statement. Cross check \n",
    "before running the program. \n",
    "a = 10.20 \n",
    "b - 10.20 \n",
    "print(a is b)          #True or False? True 10.20<256 \n",
    "print(a is not b)      #True or False? False \n",
    "Why the Id of float values are different when the same value is \n",
    "assigned to two different variables \n",
    "ex: a = 10.5 b=10.5. but id will be same if I assign the variable \n",
    "having float i.e. a=c then both a and c's Id are same"
   ]
  },
  {
   "cell_type": "code",
   "execution_count": 11,
   "id": "aada6fc7-e8c5-424c-96c6-76f26954172e",
   "metadata": {},
   "outputs": [
    {
     "name": "stdout",
     "output_type": "stream",
     "text": [
      "1947188502704\n",
      "1947189789936\n",
      "1947188502704\n",
      "False\n",
      "True\n"
     ]
    }
   ],
   "source": [
    "a = 10.20 \n",
    "b = 10.20 \n",
    "print(id(a))\n",
    "print(id(b))\n",
    "c = a\n",
    "print(id(c))\n",
    "print(a is b)          #True or False? True 10.20<256 \n",
    "print(a is not b) "
   ]
  },
  {
   "cell_type": "code",
   "execution_count": null,
   "id": "0ae8f509-4504-41a2-b928-9ccb208d60b2",
   "metadata": {},
   "outputs": [],
   "source": [
    "Q. Bitwise operation is not applicable between instances of float. \n",
    "Why the Id of float values are different when the same value is \n",
    "assigned to two different variables \n",
    "ex: a = 10.5 b=10.5. but id will be same if I assign the variable \n",
    "having float i.e. a=c then both a and c's Id are same \n",
    "Object reusability concept is not applicable on float values. "
   ]
  },
  {
   "cell_type": "code",
   "execution_count": 13,
   "id": "290f1f62-aa0c-47ff-ac35-850cdfc15b1e",
   "metadata": {},
   "outputs": [
    {
     "name": "stdout",
     "output_type": "stream",
     "text": [
      "True\n",
      "True\n",
      "True\n",
      "True\n",
      "True\n",
      "True\n"
     ]
    }
   ],
   "source": [
    "# Q. Membership operation \n",
    "# in, not in are two membership operators and it returns boolean value \n",
    "print('2.7' in 'Python2.7.8')              #True \n",
    "print(10.20 in [10,10.20,10+20j,'Python']) #True \n",
    "print(10.20 in (10,10.20,10+20j,'Python')) # True \n",
    "print(20.30 in {1,20.30,30+40j})           # True \n",
    "print(2.3 in {1:100, 2.3:200, 30+40j:300}) # True \n",
    "print(10 in range(20))                     # True"
   ]
  },
  {
   "cell_type": "code",
   "execution_count": null,
   "id": "57378c0e-f82f-4bb9-b1ec-52cca31f8a33",
   "metadata": {},
   "outputs": [],
   "source": []
  },
  {
   "cell_type": "code",
   "execution_count": null,
   "id": "d3341030-dd0a-493c-a1a6-d2a5655450ac",
   "metadata": {},
   "outputs": [],
   "source": []
  },
  {
   "cell_type": "code",
   "execution_count": null,
   "id": "42230fb7-e065-418c-bc95-21d35f601690",
   "metadata": {},
   "outputs": [],
   "source": []
  },
  {
   "cell_type": "code",
   "execution_count": null,
   "id": "0e673d36-3fbc-4e87-94fa-2decf7e8056a",
   "metadata": {},
   "outputs": [],
   "source": []
  }
 ],
 "metadata": {
  "kernelspec": {
   "display_name": "Python 3 (ipykernel)",
   "language": "python",
   "name": "python3"
  },
  "language_info": {
   "codemirror_mode": {
    "name": "ipython",
    "version": 3
   },
   "file_extension": ".py",
   "mimetype": "text/x-python",
   "name": "python",
   "nbconvert_exporter": "python",
   "pygments_lexer": "ipython3",
   "version": "3.12.7"
  }
 },
 "nbformat": 4,
 "nbformat_minor": 5
}
