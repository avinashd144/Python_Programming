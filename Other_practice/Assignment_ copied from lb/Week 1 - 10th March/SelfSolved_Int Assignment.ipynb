{
 "cells": [
  {
   "cell_type": "markdown",
   "id": "64ef99a2-d590-4ee8-9bf3-f452b5aecbd7",
   "metadata": {},
   "source": [
    "Q. Declare an int value and store it in a variable. \n",
    "Check the type and print the id of the same."
   ]
  },
  {
   "cell_type": "code",
   "execution_count": 1,
   "id": "82fd48c8-70a8-472d-8797-234e1b6daf08",
   "metadata": {},
   "outputs": [
    {
     "name": "stdout",
     "output_type": "stream",
     "text": [
      "20 <class 'int'>\n"
     ]
    }
   ],
   "source": [
    "int_var1 = 20\n",
    "print(int_var1, type(int_var1))"
   ]
  },
  {
   "cell_type": "markdown",
   "id": "b77fa927-44ea-4afa-9e1b-31e802508d86",
   "metadata": {},
   "source": [
    "Q. Take one int value between 0 - 256. \n",
    "Assign it to two different variables. \n",
    "Check the id of both the variables. It should come the same. Check why? "
   ]
  },
  {
   "cell_type": "code",
   "execution_count": 43,
   "id": "faff3746-ab45-4ede-b4f8-c70342628f2b",
   "metadata": {},
   "outputs": [
    {
     "name": "stdin",
     "output_type": "stream",
     "text": [
      "Enter a number between 0-256: 23\n",
      "Enter a number between 0-256: 23\n"
     ]
    },
    {
     "name": "stdout",
     "output_type": "stream",
     "text": [
      "Number 1: 23 <class 'int'> 140735506623608\n",
      "Number 2: 23 <class 'int'> 140735506623608\n"
     ]
    }
   ],
   "source": [
    "int_var1 = int(input('Enter a number between 0-256:'))\n",
    "int_var2 = int(input('Enter a number between 0-256:'))\n",
    "print('Number 1:', int_var1, type(int_var1), id(int_var1))\n",
    "print('Number 2:', int_var2, type(int_var2), id(int_var2))"
   ]
  },
  {
   "cell_type": "markdown",
   "id": "5e81cb25-3001-4014-90b1-5e0910d22417",
   "metadata": {},
   "source": [
    "Q. Take one int value either less than -5 or greater than 256. \n",
    "Assign it to two different variables. \n",
    "Check the id of both the variables. It should come different.Check why? "
   ]
  },
  {
   "cell_type": "code",
   "execution_count": 45,
   "id": "b158d750-256c-4bbd-ac2f-6c25227e70c2",
   "metadata": {},
   "outputs": [
    {
     "name": "stdin",
     "output_type": "stream",
     "text": [
      "Enter a number either less than -5 or greater than 256: 300\n",
      "Enter a number either less than -5 or greater than 256: 300\n"
     ]
    },
    {
     "name": "stdout",
     "output_type": "stream",
     "text": [
      "Number 1: 300 <class 'int'> 2573282375728\n",
      "Number 2: 300 <class 'int'> 2573272781168\n"
     ]
    }
   ],
   "source": [
    "int_var1 = int(input('Enter a number either less than -5 or greater than 256:'))\n",
    "int_var2 = int(input('Enter a number either less than -5 or greater than 256:'))\n",
    "print('Number 1:', int_var1, type(int_var1), id(int_var1))\n",
    "print('Number 2:', int_var2, type(int_var2), id(int_var2))"
   ]
  },
  {
   "cell_type": "code",
   "execution_count": 46,
   "id": "75ba57ec-dea2-4291-a510-7bc2c377c49f",
   "metadata": {},
   "outputs": [
    {
     "ename": "SyntaxError",
     "evalue": "invalid syntax (708938465.py, line 1)",
     "output_type": "error",
     "traceback": [
      "\u001b[1;36m  Cell \u001b[1;32mIn[46], line 1\u001b[1;36m\u001b[0m\n\u001b[1;33m    Q. Arithmetic Operations on integers\u001b[0m\n\u001b[1;37m                  ^\u001b[0m\n\u001b[1;31mSyntaxError\u001b[0m\u001b[1;31m:\u001b[0m invalid syntax\n"
     ]
    }
   ],
   "source": [
    "Q. Arithmetic Operations on integers \n",
    "Take two different integer values. \n",
    "Store them in two different variables. \n",
    "    \n",
    "Do below operations on them:- \n",
    "\n",
    "   Find sum of both numbers \n",
    "   Find difference between them \n",
    "   Find the product of both numbers. \n",
    "   Find value after dividing first num with second number \n",
    "   Find the remainder after dividing first number with second number \n",
    "   Find the quotient after dividing first number with second number \n",
    "   Find the result of the first num to the power of the second number. "
   ]
  },
  {
   "cell_type": "code",
   "execution_count": 48,
   "id": "ed416437-7fb8-4280-afaa-52f401773145",
   "metadata": {},
   "outputs": [
    {
     "name": "stdin",
     "output_type": "stream",
     "text": [
      "Enter a number between 0-256: 5\n",
      "Enter a number between 0-256: 2\n"
     ]
    },
    {
     "name": "stdout",
     "output_type": "stream",
     "text": [
      "Number 1: 5 <class 'int'> 140735506623032\n",
      "Number 2: 2 <class 'int'> 140735506622936\n",
      "sum of both values: 7\n",
      "3\n",
      "10\n",
      "2.5\n",
      "remainder after dividing first value with second value: 1\n",
      "quotient after dividing first value with second value: 2\n",
      "25\n"
     ]
    }
   ],
   "source": [
    "int_var1 = int(input('Enter a number between 0-256:'))\n",
    "int_var2 = int(input('Enter a number between 0-256:'))\n",
    "print('Number 1:', int_var1, type(int_var1), id(int_var1))\n",
    "print('Number 2:', int_var2, type(int_var2), id(int_var2))\n",
    "\n",
    "print('sum of both values:',int_var1+int_var2)\n",
    "print(int_var1-int_var2)\n",
    "print(int_var1*int_var2)\n",
    "print(int_var1/int_var2)\n",
    "print('remainder after dividing first value with second value:', int_var1%int_var2)\n",
    "print('quotient after dividing first value with second value:',int_var1//int_var2)\n",
    "print(int_var1**int_var2)"
   ]
  },
  {
   "cell_type": "code",
   "execution_count": null,
   "id": "7acbb986-1057-40f1-98a9-2f44a77b5297",
   "metadata": {},
   "outputs": [],
   "source": [
    "Q. Comparison Operators on integers \n",
    "Take two different integer values. \n",
    "Store them in two different variables. \n",
    "Do below operations on them:- \n",
    "   Compare se two numbers with below operator:- \n",
    "       Greater than, '>' \n",
    "       Smaller than, '<' \n",
    "       Greater than or equal to, '>=' \n",
    "       Less than or equal to, '<=' \n",
    "Observe their output(return type should be boolean)"
   ]
  },
  {
   "cell_type": "code",
   "execution_count": 49,
   "id": "35db9e29-f098-4768-890c-01a3f4e7e5c2",
   "metadata": {},
   "outputs": [
    {
     "name": "stdin",
     "output_type": "stream",
     "text": [
      "Enter a number between 0-256: 5\n",
      "Enter a number between 0-256: 2\n"
     ]
    },
    {
     "name": "stdout",
     "output_type": "stream",
     "text": [
      "Number 1: 5 <class 'int'> 140735506623032\n",
      "Number 2: 2 <class 'int'> 140735506622936\n",
      "Results\n",
      "True\n",
      "False\n",
      "True\n",
      "False\n"
     ]
    }
   ],
   "source": [
    "int_var1 = int(input('Enter a number between 0-256:'))\n",
    "int_var2 = int(input('Enter a number between 0-256:'))\n",
    "print('Number 1:', int_var1, type(int_var1), id(int_var1))\n",
    "print('Number 2:', int_var2, type(int_var2), id(int_var2))\n",
    "\n",
    "print('Results')\n",
    "print( int_var1 > int_var2)\n",
    "print( int_var1 < int_var2)\n",
    "print( int_var1 >= int_var2)\n",
    "print( int_var1 <= int_var2)"
   ]
  },
  {
   "cell_type": "code",
   "execution_count": null,
   "id": "cc7be1e8-6936-4e79-9c86-5f4f0059cb7c",
   "metadata": {},
   "outputs": [],
   "source": [
    "Q. Equality Operator \n",
    "Take two different integer values. \n",
    "Store them in two different variables. \n",
    "Equate them using equality operators (==, !=) \n",
    "Observe the output(return type should be boolean) \n"
   ]
  },
  {
   "cell_type": "code",
   "execution_count": 50,
   "id": "3824f368-0e4b-4ea4-85f0-9b3536c6ff38",
   "metadata": {},
   "outputs": [
    {
     "name": "stdin",
     "output_type": "stream",
     "text": [
      "Enter a number between 0-256: 2\n",
      "Enter a number between 0-256: 2\n"
     ]
    },
    {
     "name": "stdout",
     "output_type": "stream",
     "text": [
      "Number 1: 2 <class 'int'> 140735506622936\n",
      "Number 2: 2 <class 'int'> 140735506622936\n",
      "True\n",
      "False\n"
     ]
    }
   ],
   "source": [
    "int_var1 = int(input('Enter a number between 0-256:'))\n",
    "int_var2 = int(input('Enter a number between 0-256:'))\n",
    "print('Number 1:', int_var1, type(int_var1), id(int_var1))\n",
    "print('Number 2:', int_var2, type(int_var2), id(int_var2))\n",
    "\n",
    "print(int_var1 == int_var2)\n",
    "print(int_var1 != int_var2)"
   ]
  },
  {
   "cell_type": "code",
   "execution_count": 51,
   "id": "d7d83dab-2334-485c-a8c8-cf12331aa71d",
   "metadata": {},
   "outputs": [
    {
     "name": "stdout",
     "output_type": "stream",
     "text": [
      "20\n",
      "0\n",
      "0\n",
      "0\n",
      "10\n",
      "20\n",
      "20\n",
      "0\n",
      "False\n",
      "True\n"
     ]
    }
   ],
   "source": [
    "# Q. Logical operators \n",
    "# Observe the output of below code \n",
    "# Cross check the output manually \n",
    " \n",
    "print(10 and 20) \n",
    "#----------------------------------------->Output is 20 \n",
    "print(0 and 20) \n",
    "#----------------------------------------->Output is 0 \n",
    "print(20 and 0) \n",
    "#----------------------------------------->Output is 0 \n",
    "print(0 and 0) \n",
    "#----------------------------------------->Output is 0 \n",
    " \n",
    "print(10 or 20) \n",
    "#----------------------------------------->Output is 10 \n",
    "print(0 or 20) \n",
    "#----------------------------------------->Output is 20 \n",
    "print(20 or 0) \n",
    "#----------------------------------------->Output is 20 \n",
    "print(0 or 0) \n",
    "#----------------------------------------->Output is 0 \n",
    " \n",
    "print(not 10) \n",
    "#----------------------------------------->Output is False \n",
    "print(not 0) \n",
    "#----------------------------------------->Output is True"
   ]
  },
  {
   "cell_type": "code",
   "execution_count": null,
   "id": "2233e520-7d6f-4de6-9173-f8a775732174",
   "metadata": {},
   "outputs": [],
   "source": [
    "Q. Bitwise Operators \n",
    "Do below operations on the values provided below:- \n",
    "   Bitwise and(&) -----------------------------------------> 10, 20 -------> Output is 0 \n",
    "   Bitwise or(|)  -----------------------------------------> 10, 20 -------> Output is 30 \n",
    "   Bitwise(^)     -----------------------------------------> 10, 20 -------> Output is 30 \n",
    "   Bitwise negation(~) ------------------------------------> 10 -------> Output is -11 \n",
    "   Bitwise left shift  ------------------------------------> 10,2 -------> Output is 40 \n",
    "   Bitwise right shift ------------------------------------> 10,2 -------> Output is 2 \n",
    "Cross check the output manually"
   ]
  },
  {
   "cell_type": "code",
   "execution_count": 52,
   "id": "43435d1d-ec84-473e-966d-ab706bb5d51c",
   "metadata": {},
   "outputs": [
    {
     "name": "stdout",
     "output_type": "stream",
     "text": [
      "0\n",
      "30\n",
      "30\n",
      "-11\n",
      "40\n",
      "2\n"
     ]
    }
   ],
   "source": [
    "print(10 & 20)\n",
    "print(10|20)\n",
    "print(10^20)\n",
    "print(~10)\n",
    "print(10<<2)\n",
    "print(10>>2)"
   ]
  },
  {
   "cell_type": "code",
   "execution_count": 53,
   "id": "4bfebeae-0b7a-4cd2-914a-1243a58f7eb1",
   "metadata": {},
   "outputs": [
    {
     "name": "stdout",
     "output_type": "stream",
     "text": [
      "True\n",
      "False\n",
      "False\n",
      "True\n"
     ]
    }
   ],
   "source": [
    "# Q. What is the output of expression inside print statement. Cross check \n",
    "# before running the program. \n",
    "a = 10 \n",
    "b = 10 \n",
    "print(a is b)          #True or False? \n",
    "print(a is not b)      #True or False? \n",
    " \n",
    "a = 1000 \n",
    "b = 1000 \n",
    "print(a is b)          #True or False? \n",
    "print(a is not b)      #True or False? "
   ]
  },
  {
   "cell_type": "code",
   "execution_count": 54,
   "id": "5cf8f665-7c6e-4e89-a0b3-6d27f9d7dd42",
   "metadata": {},
   "outputs": [
    {
     "name": "stdout",
     "output_type": "stream",
     "text": [
      "20\n"
     ]
    }
   ],
   "source": [
    "# Q. What is the output of expression inside print statement. Cross check \n",
    "# before running the program. \n",
    "print(10+(10*32)//2**5&20+(~(-10))<<2) "
   ]
  },
  {
   "cell_type": "code",
   "execution_count": 55,
   "id": "1c1e812f-43ce-4846-b130-53bdcda23257",
   "metadata": {},
   "outputs": [
    {
     "name": "stdout",
     "output_type": "stream",
     "text": [
      "True\n",
      "True\n",
      "True\n",
      "True\n",
      "True\n",
      "True\n"
     ]
    }
   ],
   "source": [
    "# Q. Membership operation \n",
    "# in, not in are two membership operators and it returns boolean value \n",
    " \n",
    "print('2' in 'Python2.7.8') \n",
    "print(10 in [10,10.20,10+20j,'Python']) \n",
    "print(10 in (10,10.20,10+20j,'Python')) \n",
    "print(2 in {1,2,3}) \n",
    "print(3 in {1:100, 2:200, 3:300}) \n",
    "print(10 in range(20))"
   ]
  },
  {
   "cell_type": "markdown",
   "id": "49fb98c9-8394-48a8-aa86-e05340bc7a03",
   "metadata": {},
   "source": [
    "Q. An integer can be represented in binary, octal or hexadecimal form. \n",
    "Declare one binary, one octal and one hexadecimal value and store them \n",
    "in three different variables. \n",
    "Convert 9876 to its binary, octal and hexadecimal equivalent and print \n",
    "their corresponding value. "
   ]
  },
  {
   "cell_type": "code",
   "execution_count": 56,
   "id": "b4d81003-9909-472a-b588-884374925ac1",
   "metadata": {},
   "outputs": [
    {
     "name": "stdin",
     "output_type": "stream",
     "text": [
      "Enter a number: 9876\n"
     ]
    },
    {
     "name": "stdout",
     "output_type": "stream",
     "text": [
      "0b10011010010100 <class 'str'>\n",
      "0o23224 <class 'str'>\n",
      "0x2694 <class 'str'>\n"
     ]
    }
   ],
   "source": [
    "int_var1 = int(input('Enter a number:'))\n",
    "binary = bin(int_var1)\n",
    "print(binary, type(binary))\n",
    "octal = oct(int_var1)\n",
    "print(octal, type(octal))\n",
    "hexa = hex(int_var1)\n",
    "print(hexa, type(hexa))"
   ]
  },
  {
   "cell_type": "code",
   "execution_count": 58,
   "id": "0b4e53e8-eec0-451e-922e-45418e46d4d8",
   "metadata": {},
   "outputs": [
    {
     "name": "stdout",
     "output_type": "stream",
     "text": [
      "80\n",
      "3870\n",
      "64222\n",
      "0b1010000\n",
      "0o7436\n",
      "0xfade\n",
      "0b1010000\n",
      "0b1111101011011110\n",
      "0o175336\n",
      "0o7436\n",
      "0x50\n",
      "0xfade\n"
     ]
    }
   ],
   "source": [
    "# Q. What will be the output of following:- \n",
    "a = 0b1010000 \n",
    "print(a) \n",
    " \n",
    "b = 0o7436 \n",
    "print(b) \n",
    " \n",
    "c = 0xfade \n",
    "print(c) \n",
    " \n",
    "print(bin(80)) \n",
    " \n",
    "print(oct(3870)) \n",
    "print(hex(64222)) \n",
    "print(bin(0b1010000)) \n",
    "print(bin(0xfade)) \n",
    "print(oct(0xfade)) \n",
    "print(oct(0o7436)) \n",
    "print(hex(0b1010000)) \n",
    "print(hex(0xfade))"
   ]
  },
  {
   "cell_type": "code",
   "execution_count": null,
   "id": "5dbcce5d-e09e-44bf-9e5d-3531f805fb7a",
   "metadata": {},
   "outputs": [],
   "source": []
  },
  {
   "cell_type": "code",
   "execution_count": null,
   "id": "cb7cfbe2-9bb6-4dca-915f-be3cb333e87b",
   "metadata": {},
   "outputs": [],
   "source": []
  },
  {
   "cell_type": "code",
   "execution_count": null,
   "id": "5292d468-9db3-4512-8d29-87880dc08364",
   "metadata": {},
   "outputs": [],
   "source": []
  }
 ],
 "metadata": {
  "kernelspec": {
   "display_name": "Python 3 (ipykernel)",
   "language": "python",
   "name": "python3"
  },
  "language_info": {
   "codemirror_mode": {
    "name": "ipython",
    "version": 3
   },
   "file_extension": ".py",
   "mimetype": "text/x-python",
   "name": "python",
   "nbconvert_exporter": "python",
   "pygments_lexer": "ipython3",
   "version": "3.12.7"
  }
 },
 "nbformat": 4,
 "nbformat_minor": 5
}
