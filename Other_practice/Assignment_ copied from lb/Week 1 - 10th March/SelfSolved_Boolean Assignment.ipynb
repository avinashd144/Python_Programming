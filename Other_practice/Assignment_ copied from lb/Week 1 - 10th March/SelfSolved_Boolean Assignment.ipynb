{
 "cells": [
  {
   "cell_type": "markdown",
   "id": "1ddc16d2-6358-430a-8e7e-ba7d475a56a3",
   "metadata": {},
   "source": [
    "Q. Declare a boolean value and store it in a variable. \n",
    "Check the type and print the id of the same. "
   ]
  },
  {
   "cell_type": "code",
   "execution_count": 4,
   "id": "91a6f82e-3118-436e-bb83-fbccb9fca627",
   "metadata": {},
   "outputs": [
    {
     "name": "stdout",
     "output_type": "stream",
     "text": [
      "True <class 'bool'> 140735505496960\n",
      "False <class 'bool'> 140735505496992\n"
     ]
    }
   ],
   "source": [
    "a = True\n",
    "b = False\n",
    "print(a, type(a), id(a))\n",
    "print(b, type(b), id(b))"
   ]
  },
  {
   "cell_type": "markdown",
   "id": "88961e58-0e21-4eb6-b526-4b12dab933d3",
   "metadata": {},
   "source": [
    "Q. Take one boolean value between 0 - 256. \n",
    "Assign it to two different variables. \n",
    "Check the id of both the variables. It should come the same. Check why? "
   ]
  },
  {
   "cell_type": "code",
   "execution_count": 8,
   "id": "0040888b-a282-40de-8375-4d185d4e0a0a",
   "metadata": {},
   "outputs": [
    {
     "name": "stdout",
     "output_type": "stream",
     "text": [
      "True 140735505496960\n",
      "True 140735505496960\n"
     ]
    }
   ],
   "source": [
    "a = bool(52)\n",
    "b = bool(25)\n",
    "print(a, id(a))\n",
    "print(b, id(b))"
   ]
  },
  {
   "cell_type": "markdown",
   "id": "03123a52-1cbf-439f-ad57-d42b101868fb",
   "metadata": {},
   "source": [
    "Q. Arithmetic Operations on boolean data \n",
    "Take two different boolean values. \n",
    "Store them in two different variables. \n",
    "\n",
    "Do below operations on them:- \n",
    "\n",
    "   Find sum of both values \n",
    "   \n",
    "   Find difference between them \n",
    "   \n",
    "   Find the product of both. \n",
    "   \n",
    "   Find value after dividing first value with second value \n",
    "   \n",
    "   Find the remainder after dividing first value with second value \n",
    "   \n",
    "   Find the quotient after dividing first value with second value \n",
    "   \n",
    "   Find the result of first value to the power of second value."
   ]
  },
  {
   "cell_type": "code",
   "execution_count": 17,
   "id": "49b6b047-36ea-4e46-ad2e-ca101934df67",
   "metadata": {},
   "outputs": [
    {
     "name": "stdin",
     "output_type": "stream",
     "text": [
      "Enter anumber between 1 and 256: 1\n",
      "Enter anumber between 1 and 256: 1\n"
     ]
    },
    {
     "name": "stdout",
     "output_type": "stream",
     "text": [
      "sum of both values: 2\n",
      "0\n",
      "1\n",
      "1.0\n",
      "remainder after dividing first value with second value: 0\n",
      "quotient after dividing first value with second value: 1\n",
      "1\n"
     ]
    }
   ],
   "source": [
    "a = bool(input('Enter anumber between 1 and 256:'))\n",
    "b = bool(input('Enter anumber between 1 and 256:'))\n",
    "print('sum of both values:',a+b)\n",
    "print(a-b)\n",
    "print(a*b)\n",
    "print(a/b)\n",
    "print('remainder after dividing first value with second value:', a%b)\n",
    "print('quotient after dividing first value with second value:',a//b)\n",
    "print(a**b)\n"
   ]
  },
  {
   "cell_type": "markdown",
   "id": "1e5e3041-228a-4e05-8313-93e798f282bf",
   "metadata": {},
   "source": [
    "Q. Comparison Operators on boolean values \n",
    "Take two different boolean values. \n",
    "Store them in two different variables. \n",
    "\n",
    "Do below operations on them:- \n",
    "\n",
    "   Compare these two values with below operator:- \n",
    "   \n",
    "       Greater than, '>' \n",
    "       less than, '<' \n",
    "       Greater than or equal to, '>=' \n",
    "       Less than or equal to, '<='  \n",
    "Observe their output(return type should be boolean) "
   ]
  },
  {
   "cell_type": "code",
   "execution_count": 29,
   "id": "e17db1e2-52dd-4545-8891-0f99a170b0df",
   "metadata": {},
   "outputs": [
    {
     "name": "stdin",
     "output_type": "stream",
     "text": [
      "Enter anumber between 0 and 256: 10\n",
      "Enter anumber between 1 and 256: 0\n"
     ]
    },
    {
     "name": "stdout",
     "output_type": "stream",
     "text": [
      "True\n",
      "False\n",
      "Results\n",
      "True\n",
      "False\n",
      "True\n",
      "False\n"
     ]
    }
   ],
   "source": [
    "bool_var1 = bool(int(input('Enter anumber between 0 and 256:')))\n",
    "bool_var2 = bool(int(input('Enter anumber between 1 and 256:')))\n",
    "print(bool_var1)\n",
    "print(bool_var2)\n",
    "print('Results')\n",
    "print( bool_var1 > bool_var2)\n",
    "print( bool_var1 < bool_var2)\n",
    "print( bool_var1 >= bool_var2)\n",
    "print( bool_var1 <= bool_var2)"
   ]
  },
  {
   "cell_type": "markdown",
   "id": "2fd22b2f-3768-45ee-9042-5f464b9f6ae2",
   "metadata": {},
   "source": [
    "Q. Equality Operator \n",
    "Take two different boolean values. \n",
    "Store them in two different variables. \n",
    "\n",
    "Equate them using equality operators (==, !=) \n",
    "Observe the output(return type should be boolean) "
   ]
  },
  {
   "cell_type": "code",
   "execution_count": 32,
   "id": "b3b68cf3-6d6f-4355-9b43-df9d3d9818c8",
   "metadata": {},
   "outputs": [
    {
     "name": "stdin",
     "output_type": "stream",
     "text": [
      "Enter anumber between 0 and 256: 3\n",
      "Enter anumber between 1 and 256: 0\n"
     ]
    },
    {
     "name": "stdout",
     "output_type": "stream",
     "text": [
      "False\n",
      "True\n"
     ]
    }
   ],
   "source": [
    "bool_var1 = bool(int(input('Enter anumber between 0 and 256:')))\n",
    "bool_var2 = bool(int(input('Enter anumber between 1 and 256:')))\n",
    "\n",
    "print(bool_var1 == bool_var2)\n",
    "print(bool_var1 != bool_var2)"
   ]
  },
  {
   "cell_type": "code",
   "execution_count": 34,
   "id": "7133a9d2-8d7f-4029-b0a9-2859d7149720",
   "metadata": {},
   "outputs": [
    {
     "name": "stdout",
     "output_type": "stream",
     "text": [
      "True\n",
      "False\n",
      "False\n",
      "False\n",
      "True\n",
      "True\n",
      "True\n",
      "False\n",
      "False\n",
      "True\n"
     ]
    }
   ],
   "source": [
    "# Q. Logical operators \n",
    "# Observe the output of below code \n",
    "# Cross check the output manually \n",
    " \n",
    "print(True and True) \n",
    "#----------------------------------------->Output is True \n",
    "print(False and True) \n",
    "#----------------------------------------->Output is False \n",
    " \n",
    "print(True and False) \n",
    "#----------------------------------------->Output is False \n",
    " \n",
    "print(False and False) \n",
    "#----------------------------------------->Output is False \n",
    " \n",
    "print(True or True) \n",
    "#----------------------------------------->Output is True \n",
    " \n",
    "print(False or True) \n",
    "#----------------------------------------->Output is True \n",
    " \n",
    "print(True or False) \n",
    "#----------------------------------------->Output is True \n",
    " \n",
    "print(False or False) \n",
    "#----------------------------------------->Output is False \n",
    " \n",
    "print(not True) \n",
    "#----------------------------------------->Output is False \n",
    " \n",
    "print(not False) \n",
    "#----------------------------------------->Output is True "
   ]
  },
  {
   "cell_type": "code",
   "execution_count": null,
   "id": "3b4853d6-5b8e-476c-bec5-ce889097351d",
   "metadata": {},
   "outputs": [],
   "source": [
    "# Q. Bitwise Operators \n",
    "# Do below operations on the values provided below:- \n",
    "   Bitwise and(&) --------------> True, True    -------> Output is True \n",
    "   Bitwise or(|)  --------------> True, False   -------> Output is True \n",
    "   Bitwise(^)     --------------> True, False   -------> Output is True \n",
    "   Bitwise negation(~) ---------> True          -------> Output is -2 \n",
    "   Bitwise left shift  ---------> True,2        -------> Output is 4 \n",
    "   Bitwise right shift ---------> True,2        -------> Output is 0 \n",
    "Cross check the output manually"
   ]
  },
  {
   "cell_type": "code",
   "execution_count": 43,
   "id": "52d972a6-f1cb-4df9-b8d3-c07c021c0c4f",
   "metadata": {},
   "outputs": [
    {
     "name": "stdout",
     "output_type": "stream",
     "text": [
      "True\n",
      "True\n",
      "True\n",
      "-2\n",
      "4\n",
      "0\n"
     ]
    }
   ],
   "source": [
    "print(True & True)\n",
    "print(True|False)\n",
    "print(True^False)\n",
    "print(~True)\n",
    "print(True<<2)\n",
    "print(True>>2)"
   ]
  },
  {
   "cell_type": "code",
   "execution_count": 45,
   "id": "f15d420a-8a8d-41f6-8a1f-46639f16f373",
   "metadata": {},
   "outputs": [
    {
     "name": "stdout",
     "output_type": "stream",
     "text": [
      "True\n",
      "False\n",
      "True\n",
      "False\n"
     ]
    }
   ],
   "source": [
    "# Q. What is the output of expression inside the print statement. Cross \n",
    "# check before running the program. \n",
    "a = True \n",
    "b = True \n",
    "print(a is b)          #True or False?   # \n",
    "print(a is not b)      #True or False? \n",
    " \n",
    "a = False \n",
    "b = False \n",
    "print(a is b)          #True or False? \n",
    "print(a is not b)      #True or False? "
   ]
  },
  {
   "cell_type": "code",
   "execution_count": 46,
   "id": "1781644f-9b22-4574-b484-052d9f325bc3",
   "metadata": {},
   "outputs": [
    {
     "name": "stdout",
     "output_type": "stream",
     "text": [
      "True\n",
      "True\n",
      "True\n",
      "True\n",
      "True\n"
     ]
    }
   ],
   "source": [
    "# Q. Membership operation \n",
    "# in, not in are two membership operators and it returns boolean value \n",
    " \n",
    "print(True in [10,10.20,10+20j,'Python', True]) \n",
    "print(False in (10,10.20,10+20j,'Python', False)) \n",
    "print(True in {1,2,3, True}) \n",
    "print(True in {True:100, False:200, True:300}) \n",
    "print(False in {True:100, False:200, True:300}) "
   ]
  },
  {
   "cell_type": "code",
   "execution_count": null,
   "id": "8850341c-c6d6-49eb-be5e-c96a97907b74",
   "metadata": {},
   "outputs": [],
   "source": []
  }
 ],
 "metadata": {
  "kernelspec": {
   "display_name": "Python 3 (ipykernel)",
   "language": "python",
   "name": "python3"
  },
  "language_info": {
   "codemirror_mode": {
    "name": "ipython",
    "version": 3
   },
   "file_extension": ".py",
   "mimetype": "text/x-python",
   "name": "python",
   "nbconvert_exporter": "python",
   "pygments_lexer": "ipython3",
   "version": "3.12.7"
  }
 },
 "nbformat": 4,
 "nbformat_minor": 5
}
