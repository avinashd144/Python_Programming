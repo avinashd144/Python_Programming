{
 "cells": [
  {
   "cell_type": "code",
   "execution_count": null,
   "id": "89b651ac-ebc7-4f1e-9e21-d4e0d74b8e7d",
   "metadata": {},
   "outputs": [],
   "source": [
    "Q. Declare a complex number and store it in a variable. \n",
    "Check the type and print the id of the same."
   ]
  },
  {
   "cell_type": "code",
   "execution_count": 3,
   "id": "58e565ee-c2f6-441c-b9a2-91be784717e3",
   "metadata": {},
   "outputs": [
    {
     "name": "stdout",
     "output_type": "stream",
     "text": [
      "(20+3j) <class 'complex'> 2205917200624\n"
     ]
    }
   ],
   "source": [
    "complex_num = 20+3j\n",
    "print(complex_num, type(complex_num), id(complex_num))"
   ]
  },
  {
   "cell_type": "code",
   "execution_count": null,
   "id": "cabaf2ae-3ecd-4a2e-be02-250d15385646",
   "metadata": {},
   "outputs": [],
   "source": [
    "Q. Arithmetic Operations on complex number \n",
    "Take two different complex numbers. \n",
    "Store them in two different variables. \n",
    "Do below operations on them:- \n",
    "   Find sum of both numbers \n",
    "   Find difference between them \n",
    "   Find the product of both numbers. \n",
    "   Find value after dividing first num with second number \n",
    "   Find the result of the first num to the power of the second number. "
   ]
  },
  {
   "cell_type": "code",
   "execution_count": 22,
   "id": "e35bbbdb-b92b-4946-b97b-da50564021c3",
   "metadata": {},
   "outputs": [
    {
     "name": "stdin",
     "output_type": "stream",
     "text": [
      "Enter a complex number: 2+3j\n",
      "Enter a complex number: 3+6j\n"
     ]
    },
    {
     "name": "stdout",
     "output_type": "stream",
     "text": [
      "(2+3j) <class 'complex'> 2205917202896\n",
      "(3+6j) <class 'complex'> 2205930873936\n",
      "-----Results-----\n",
      "sum of both numbers, (2+3j) and (3+6j) is:  (5+9j)\n",
      "difference between them, (2+3j) and (3+6j) is:  (-1-3j)\n",
      "the product of both numbers, (2+3j) and (3+6j) is:  (-12+21j)\n",
      "dividing first num with second number, (2+3j) and (3+6j) is:  (0.5333333333333333-0.06666666666666667j)\n",
      "first num to the power of the second number, (2+3j) and (3+6j) is:  (-0.04445578754050503-0.12090618282075687j)\n"
     ]
    }
   ],
   "source": [
    "complex_num1 = complex(input('Enter a complex number:'))\n",
    "complex_num2 = complex(input('Enter a complex number:'))\n",
    "print(complex_num1, type(complex_num1), id(complex_num1))\n",
    "print(complex_num2, type(complex_num2), id(complex_num2))\n",
    "print('-----Results-----')\n",
    "print(f'sum of both numbers, {complex_num1} and {complex_num2} is: ', complex_num1+complex_num2)\n",
    "print(f'difference between them, {complex_num1} and {complex_num2} is: ', complex_num1-complex_num2)\n",
    "print(f'the product of both numbers, {complex_num1} and {complex_num2} is: ', complex_num1*complex_num2)\n",
    "print(f'dividing first num with second number, {complex_num1} and {complex_num2} is: ', complex_num1/complex_num2)\n",
    "print(f'first num to the power of the second number, {complex_num1} and {complex_num2} is: ', complex_num1**complex_num2)"
   ]
  },
  {
   "cell_type": "code",
   "execution_count": 15,
   "id": "602cdbbf-91ff-48ee-ad44-5e21fd6255cd",
   "metadata": {},
   "outputs": [
    {
     "name": "stdin",
     "output_type": "stream",
     "text": [
      "Enter a complex number: 56+5j\n"
     ]
    },
    {
     "name": "stdout",
     "output_type": "stream",
     "text": [
      "(56+5j) <class 'complex'> 2205930873936\n"
     ]
    }
   ],
   "source": [
    "complex_num = complex(input('Enter a complex number:'))\n",
    "print(complex_num, type(complex_num), id(complex_num))"
   ]
  },
  {
   "cell_type": "code",
   "execution_count": null,
   "id": "757cf537-6ddb-4f9e-8acc-22f5dea4c177",
   "metadata": {},
   "outputs": [],
   "source": [
    "Q. Comparison Operation not applicable between instance of complex \n",
    "values. \n",
    "Object reusability concept is not applicable on complex number"
   ]
  },
  {
   "cell_type": "code",
   "execution_count": null,
   "id": "6965f248-ac1e-4c64-98d6-3fd7d71c7ae1",
   "metadata": {},
   "outputs": [],
   "source": [
    "Q. Equality Operator \n",
    "Take two different complex numbers. \n",
    "Store them in two different variables. \n",
    "Equate them using equality operators (==, !=) \n",
    "Observe the output(return type should be boolean) "
   ]
  },
  {
   "cell_type": "code",
   "execution_count": 23,
   "id": "d2bc01d8-5b55-4c01-be1e-07bc7cb58b8a",
   "metadata": {},
   "outputs": [
    {
     "name": "stdin",
     "output_type": "stream",
     "text": [
      "Enter a complex number: 2+3j\n",
      "Enter a complex number: 3+3j\n"
     ]
    },
    {
     "name": "stdout",
     "output_type": "stream",
     "text": [
      "(2+3j) <class 'complex'> 2205930875536\n",
      "(3+3j) <class 'complex'> 2205917202896\n",
      "-----Results-----\n",
      "False\n",
      "True\n"
     ]
    }
   ],
   "source": [
    "complex_num1 = complex(input('Enter a complex number:'))\n",
    "complex_num2 = complex(input('Enter a complex number:'))\n",
    "print(complex_num1, type(complex_num1), id(complex_num1))\n",
    "print(complex_num2, type(complex_num2), id(complex_num2))\n",
    "print('-----Results-----')\n",
    "print(complex_num1 == complex_num2)\n",
    "print(complex_num1 != complex_num2)"
   ]
  },
  {
   "cell_type": "code",
   "execution_count": 24,
   "id": "afca1fc0-ccef-414e-9031-6f891d7a0be0",
   "metadata": {},
   "outputs": [
    {
     "name": "stdout",
     "output_type": "stream",
     "text": [
      "(20+30j)\n",
      "0j\n",
      "0j\n",
      "0j\n",
      "(10+20j)\n",
      "(20+30j)\n",
      "(20+30j)\n",
      "0j\n",
      "False\n",
      "True\n"
     ]
    }
   ],
   "source": [
    "# Q. Logical operators \n",
    "# Observe the output of below code \n",
    "# Cross check the output manually \n",
    " \n",
    "print(10+20j and 20+30j)    #20+30j \n",
    "#----------------------------------------->Output is 20+30j \n",
    " \n",
    "print(0+0j and 20+30j)      #0+0j \n",
    "#----------------------------------------->Output is 0j \n",
    " \n",
    "print(20+30j and 0+0j)      #0+0j \n",
    "#----------------------------------------->Output is 0j \n",
    " \n",
    "print(0+0j and 0+0j)        #0+0j \n",
    "#----------------------------------------->Output is 0j \n",
    " \n",
    "print(10+20j or 20+30j)     #10+20j \n",
    "#----------------------------------------->Output is 10+20j \n",
    " \n",
    "print(0+0j or 20+30j)       #20+30j \n",
    "#----------------------------------------->Output is 20+30j \n",
    " \n",
    "print(20+30j or 0+0j)       #20+30j \n",
    "#----------------------------------------->Output is 20+30j \n",
    " \n",
    "print(0+0j or 0+0j)         #0+0j \n",
    "#----------------------------------------->Output is 0j \n",
    " \n",
    "print(not 10+20j)           #False \n",
    "#----------------------------------------->Output is False \n",
    " \n",
    "print(not 0+0j)             #True \n",
    "#----------------------------------------->Output is True"
   ]
  },
  {
   "cell_type": "code",
   "execution_count": 25,
   "id": "09f53d16-7dc6-4d3c-9517-394d9b61232c",
   "metadata": {},
   "outputs": [
    {
     "name": "stdout",
     "output_type": "stream",
     "text": [
      "False\n",
      "True\n"
     ]
    }
   ],
   "source": [
    "# Q. What is the output of the expression inside the print statement. \n",
    "# Cross check before running the program. \n",
    "a = 10+20j \n",
    "b = 10+20j \n",
    "print(a is b)       #False   #True or False? \n",
    "print(a is not b)   #True   #True or False?"
   ]
  },
  {
   "cell_type": "code",
   "execution_count": 26,
   "id": "bd92a3ad-0927-44e5-ad99-4cedc4aba967",
   "metadata": {},
   "outputs": [
    {
     "name": "stdout",
     "output_type": "stream",
     "text": [
      "True\n",
      "True\n",
      "True\n",
      "True\n",
      "True\n",
      "True\n"
     ]
    }
   ],
   "source": [
    "# Q. Membership operation \n",
    "# in, not in are two membership operators and it returns boolean value \n",
    "print('2.7' in 'Python2.7.8')                      #True \n",
    "print(10+20j in [10,10.20,10+20j,'Python'])        #True \n",
    "print(10+20j in (10,10.20,10+20j,'Python'))        #True \n",
    "print(30+40j in {1,20.30,30+40j})                  #True \n",
    "print(30+40j in {1:100, 2.3:200, 30+40j:300})      #True \n",
    "print(10 in range(20))                             #True"
   ]
  },
  {
   "cell_type": "code",
   "execution_count": null,
   "id": "1a560a54-c83b-4005-a4c8-4c6dae87dcd6",
   "metadata": {},
   "outputs": [],
   "source": []
  }
 ],
 "metadata": {
  "kernelspec": {
   "display_name": "Python 3 (ipykernel)",
   "language": "python",
   "name": "python3"
  },
  "language_info": {
   "codemirror_mode": {
    "name": "ipython",
    "version": 3
   },
   "file_extension": ".py",
   "mimetype": "text/x-python",
   "name": "python",
   "nbconvert_exporter": "python",
   "pygments_lexer": "ipython3",
   "version": "3.12.7"
  }
 },
 "nbformat": 4,
 "nbformat_minor": 5
}
