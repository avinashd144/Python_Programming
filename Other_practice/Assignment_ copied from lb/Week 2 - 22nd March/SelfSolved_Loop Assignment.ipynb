{
 "cells": [
  {
   "cell_type": "code",
   "execution_count": 1,
   "id": "e0c97abd-96f4-4e4a-b3b2-831425c3e8d7",
   "metadata": {},
   "outputs": [
    {
     "ename": "SyntaxError",
     "evalue": "invalid syntax (796123671.py, line 1)",
     "output_type": "error",
     "traceback": [
      "\u001b[1;36m  Cell \u001b[1;32mIn[1], line 1\u001b[1;36m\u001b[0m\n\u001b[1;33m    Q. W. A P. which takes one number from 0 to 9 from the user and prints\u001b[0m\n\u001b[1;37m            ^\u001b[0m\n\u001b[1;31mSyntaxError\u001b[0m\u001b[1;31m:\u001b[0m invalid syntax\n"
     ]
    }
   ],
   "source": [
    "Q. W. A P. which takes one number from 0 to 9 from the user and prints \n",
    "it in the word. And if the word is not from 0 to 9 then \n",
    "it should print that number is outside of the range and program should \n",
    "0exit. \n",
    "For exapmple:- \n",
    "input = 1 \n",
    "output = one "
   ]
  },
  {
   "cell_type": "code",
   "execution_count": 4,
   "id": "acbcf484-20eb-4ecc-bf21-8e1c5334edaf",
   "metadata": {},
   "outputs": [
    {
     "name": "stdin",
     "output_type": "stream",
     "text": [
      "Enter a number between 0 and 9 56\n"
     ]
    },
    {
     "name": "stdout",
     "output_type": "stream",
     "text": [
      "Number is outside the range!!!\n"
     ]
    }
   ],
   "source": [
    "num = int(input('Enter a number between 0 and 9'))\n",
    "if num == 0:\n",
    "    print('Zero')\n",
    "elif num ==1:\n",
    "    print('One')\n",
    "elif num ==2:\n",
    "    print('Two')\n",
    "elif num ==3:\n",
    "    print('Three')\n",
    "elif num ==4:\n",
    "    print('Four')\n",
    "elif num ==5:\n",
    "    print('Five')\n",
    "elif num ==6:\n",
    "    print('Six')\n",
    "elif num ==7:\n",
    "    print('Seven')\n",
    "elif num ==8:\n",
    "    print('Eight')\n",
    "elif num ==9:\n",
    "    print('Nine')\n",
    "else:\n",
    "  print('Number is outside the range!!!')"
   ]
  },
  {
   "cell_type": "code",
   "execution_count": null,
   "id": "a8da0e24-59db-4a74-a61d-73163447f31a",
   "metadata": {},
   "outputs": [],
   "source": [
    "Q. W. A P. to implement calculator but the operation to be done and two \n",
    "numbers will be taken as input from user:- \n",
    "Operation console should show below:- \n",
    "   Please select any one operation from below:- \n",
    "       * To add enter 1 \n",
    "       * to subtract enter 2 \n",
    "       * To multiply enter 3 \n",
    "       * To divide enter 4 \n",
    "       * To divide and find quotient enter 5 \n",
    "       * To divide and find remainder enter 6 \n",
    "       * To divide and find num1 to the power of num2 enter 7 \n",
    "       * To Come out of the program enter 8 "
   ]
  },
  {
   "cell_type": "code",
   "execution_count": 6,
   "id": "6d4e8016-2193-4062-aad4-e5bbba364dd2",
   "metadata": {},
   "outputs": [
    {
     "name": "stdin",
     "output_type": "stream",
     "text": [
      "Enter 1st number 25\n",
      "Enter nd number 2\n",
      "\n",
      "       * To add enter 1 \n",
      "       * to subtract enter 2 \n",
      "       * To multiply enter 3 \n",
      "       * To divide enter 4 \n",
      "       * To divide and find quotient enter 5 \n",
      "       * To divide and find remainder enter 6 \n",
      "       * To divide and find num1 to the power of num2 enter 7 \n",
      "       * To Come out of the program enter 8:  5\n"
     ]
    },
    {
     "name": "stdout",
     "output_type": "stream",
     "text": [
      "12\n"
     ]
    }
   ],
   "source": [
    "n1 = int(input('Enter 1st number'))\n",
    "n2 = int(input('Enter nd number'))\n",
    "op = int(input('''\n",
    "       * To add enter 1 \n",
    "       * to subtract enter 2 \n",
    "       * To multiply enter 3 \n",
    "       * To divide enter 4 \n",
    "       * To divide and find quotient enter 5 \n",
    "       * To divide and find remainder enter 6 \n",
    "       * To divide and find num1 to the power of num2 enter 7 \n",
    "       * To Come out of the program enter 8: '''))\n",
    "if op==1:\n",
    "    print(n1+n2)\n",
    "elif op==2:\n",
    "    print(n1-n2)\n",
    "elif op==3:\n",
    "    print(n1*n2)\n",
    "elif op==4:\n",
    "    print(n1/n2)\n",
    "elif op==5:\n",
    "    print(n1//n2)\n",
    "elif op==6:\n",
    "    print(n1%n2)\n",
    "elif op==7:\n",
    "    print(n1**n2)\n",
    "elif op==8:\n",
    "    print('Success')"
   ]
  },
  {
   "cell_type": "code",
   "execution_count": null,
   "id": "8ae2d680-2aae-4580-abae-44b065f56407",
   "metadata": {},
   "outputs": [],
   "source": [
    "import sys\n",
    "num1 = int(input('Enter 1st number: '))\n",
    "num2 = int(input('Enter 2nd number: '))\n",
    "while True:\n",
    "  op = int(input('''Please select any one operation from below:-\\n\n",
    "  \\tTo add enter 1\\n\n",
    "  \\tTo subtract enter 2\\n\n",
    "  \\tTo multiply enter 3\\n\n",
    "  \\tTo divide enter 4\\n\n",
    "  \\tTo divide and find quotient enter 5\\n\n",
    "  \\tTo divide and find remainder enter 6\\n\n",
    "  \\tTo divide and find num1 to the power of num2 enter 7\\n\n",
    "  \\tTo exit Enter 8\\n\n",
    "  '''))\n",
    "  if op == 1:\n",
    "    print(num1+num2)\n",
    "  elif op == 3:\n",
    "    if num1>num2:\n",
    "      print(num1-num2)\n",
    "    else:\n",
    "      print(num2-num1)\n",
    "  elif op == 4:\n",
    "    print(num1*num2)\n",
    "  elif op == 5:\n",
    "    print(num1/num2)\n",
    "  elif op == 6:\n",
    "    print(num1//num2)\n",
    "  elif op == 7:\n",
    "    print(num1**num2)\n",
    "  elif op == 8:\n",
    "    sys.exit(0)\n",
    "  else:\n",
    "    print('wrong input\\nTry Again\\n\\n')"
   ]
  },
  {
   "cell_type": "code",
   "execution_count": null,
   "id": "acfa064f-6310-440c-b5ee-bc4181ac394d",
   "metadata": {},
   "outputs": [],
   "source": [
    "Q. W A P to check whether a year entered by user is an leap year or not? \n",
    "Check with below input:- \n",
    "   leap year:- 2012, 1968, 2004, 1200, 1600,2400 \n",
    "   Non-lear year:- 1971, 2006, 1700,1800,1900 "
   ]
  },
  {
   "cell_type": "code",
   "execution_count": 17,
   "id": "679eb440-6d2b-43d3-a90f-85fbc12ff24f",
   "metadata": {},
   "outputs": [
    {
     "name": "stdout",
     "output_type": "stream",
     "text": [
      "non leap year\n"
     ]
    }
   ],
   "source": [
    "# yr = 1900\n",
    "# if yr%4 ==0 and yr%100 != 0:\n",
    "#     print('leap year')\n",
    "# elif yr%100 == 0 and yr%400 ==0:\n",
    "#     print('leap year')\n",
    "# else:\n",
    "#     print('non leap year')\n",
    "\n",
    "yr = 1900\n",
    "if (yr%4 ==0 and yr%100 != 0) or (yr%100 == 0 and yr%400 ==0):\n",
    "    print('leap year')\n",
    "else:\n",
    "    print('non leap year')"
   ]
  },
  {
   "cell_type": "code",
   "execution_count": null,
   "id": "84544855-5e8b-47ab-8637-35439248bab5",
   "metadata": {},
   "outputs": [],
   "source": [
    "Q. W A P which takes one number from the user and checks whether it is \n",
    "an even or odd number?, If it even then prints number is \n",
    "even number else prints that number is odd number."
   ]
  },
  {
   "cell_type": "code",
   "execution_count": 19,
   "id": "f22dca93-c07d-4caf-b47a-0679194be802",
   "metadata": {},
   "outputs": [
    {
     "name": "stdin",
     "output_type": "stream",
     "text": [
      "Enter a number: 698569\n"
     ]
    },
    {
     "name": "stdout",
     "output_type": "stream",
     "text": [
      "The number is odd\n"
     ]
    }
   ],
   "source": [
    "num = int(input('Enter a number:'))\n",
    "if num %2 == 0:\n",
    "    print('The number is even')\n",
    "else:\n",
    "    print('The number is odd')"
   ]
  },
  {
   "cell_type": "code",
   "execution_count": null,
   "id": "4ea0981d-0154-41d9-b537-d997a3467d11",
   "metadata": {},
   "outputs": [],
   "source": [
    "Q. W A P which takes two numbers from the user and prints below output:- \n",
    "   1. num1 is greater than num2 if num1 is greater than num2 \n",
    "   2. num1 is smaller than num2 if num1 is smaller than num2 \n",
    "   3. num1 is equal to num2 if num1 and num2 are equal \n",
    " \n",
    "Note:- 1. Do this problem using if - else \n",
    "     2. Do this using ternary operator "
   ]
  },
  {
   "cell_type": "code",
   "execution_count": 32,
   "id": "67abd068-453a-463a-a978-edcdcd801884",
   "metadata": {},
   "outputs": [
    {
     "name": "stdin",
     "output_type": "stream",
     "text": [
      "Enter 1st number:  5\n",
      "Enter 2nd number:  5\n"
     ]
    },
    {
     "name": "stdout",
     "output_type": "stream",
     "text": [
      "5 and 5 are equal\n"
     ]
    }
   ],
   "source": [
    "num1 = int(input('Enter 1st number: '))\n",
    "num2 = int(input('Enter 2nd number: '))\n",
    "m = (f'{num1} is greater than {num2}' if num1>num2 else f'{num1} is smaller than {num2}' if num1<num2 else f'{num1} and {num2} are equal')\n",
    "print(m)"
   ]
  },
  {
   "cell_type": "code",
   "execution_count": null,
   "id": "70a534be-917f-4d38-906d-8327368cd89b",
   "metadata": {},
   "outputs": [],
   "source": [
    "Q. W A P which takes three numbers from the user and prints below \n",
    "output:- \n",
    "   1. num1 is greater than num2 and num3 if num1 is greater than num2 \n",
    "and num3 \n",
    "   2. num2 is greater than num1 and num3 if num2 is greater than num1 \n",
    "and num3 \n",
    "   3. num3 is greater than num1 and num2 if num3 is greater than num1 \n",
    "and num2 \n",
    " \n",
    "Note:- 1. Do this problem using if - elif - else \n",
    "     2. Do this using ternary operator \n",
    " \n",
    "a = a if a>b else b "
   ]
  },
  {
   "cell_type": "code",
   "execution_count": 37,
   "id": "9f45c4ed-81b9-4fe2-8c1e-9e4b13f8eead",
   "metadata": {},
   "outputs": [
    {
     "name": "stdin",
     "output_type": "stream",
     "text": [
      "Enter 1st number:  20\n",
      "Enter 2nd number:  20\n",
      "Enter 3rd number:  20\n"
     ]
    },
    {
     "name": "stdout",
     "output_type": "stream",
     "text": [
      "All three numbers are not distinct, any other result is expected\n"
     ]
    }
   ],
   "source": [
    "num1 = int(input('Enter 1st number: '))\n",
    "num2 = int(input('Enter 2nd number: '))\n",
    "num3 = int(input('Enter 3rd number: '))\n",
    "m = (f'{num1} is greater than {num2} and {num3}' if (num1>num2 and num1>num3) else f'{num2} is greater than {num1} and {num3}' if (num2>num3 and num2>num1) else f'{num3} is greater than {num1} and {num2}' if (num3>num2 and num3>num1) else 'All three numbers are not distinct, any other result is expected')\n",
    "print(m)"
   ]
  },
  {
   "cell_type": "code",
   "execution_count": null,
   "id": "b9ebb219-efa8-4060-bb50-8ed00c1ff4f3",
   "metadata": {},
   "outputs": [],
   "source": [
    "Q. Write a Python program to find the length of the my_str using loop:- \n",
    " \n",
    "Input:- 'Write a Python program to find the length of the my_str' \n",
    "Output:- 55 "
   ]
  },
  {
   "cell_type": "code",
   "execution_count": 39,
   "id": "30e9bcdf-984f-41fe-aedd-b8ef7f5885ce",
   "metadata": {},
   "outputs": [
    {
     "name": "stdout",
     "output_type": "stream",
     "text": [
      "55\n"
     ]
    },
    {
     "data": {
      "text/plain": [
       "55"
      ]
     },
     "execution_count": 39,
     "metadata": {},
     "output_type": "execute_result"
    }
   ],
   "source": [
    "Input = 'Write a Python program to find the length of the my_str' \n",
    "sum = 0\n",
    "for i in Input:\n",
    "    sum += 1\n",
    "print(sum)\n",
    "\n",
    "len(Input)\n",
    "    "
   ]
  },
  {
   "cell_type": "code",
   "execution_count": null,
   "id": "924375a6-8902-4e59-8d85-5566085a416c",
   "metadata": {},
   "outputs": [],
   "source": [
    "Q. Write a Python program to find the total number of times letter 'p' \n",
    "is appeared in the below string using loop:- \n",
    "  \n",
    "Input:- 'peter piper picked a peck of pickled peppers.\\n' \n",
    "Output:- 9"
   ]
  },
  {
   "cell_type": "code",
   "execution_count": 41,
   "id": "be3f5f8b-a501-44f0-ba5a-cb0145e7832a",
   "metadata": {},
   "outputs": [
    {
     "name": "stdout",
     "output_type": "stream",
     "text": [
      "9\n"
     ]
    }
   ],
   "source": [
    "Input = 'peter piper picked a peck of pickled peppers.\\n'\n",
    "sum = 0\n",
    "for i in range(len(Input)):\n",
    "    if Input[i] == 'p':\n",
    "        sum += 1\n",
    "print(sum)\n",
    "    "
   ]
  },
  {
   "cell_type": "code",
   "execution_count": null,
   "id": "d531174c-ea3e-4240-865e-5d9a499d3655",
   "metadata": {},
   "outputs": [],
   "source": [
    "Q. Write a Python Program, to print all the indexes of all occurences of \n",
    "letter 'p' appeared in the string using loop:- \n",
    "  \n",
    "Input:- 'peter piper picked a peck of pickled peppers.' \n",
    "Output:- \n",
    "0 \n",
    "6 \n",
    "8 \n",
    "12 \n",
    "21 \n",
    "29 \n",
    "37 \n",
    "39 \n",
    "40"
   ]
  },
  {
   "cell_type": "code",
   "execution_count": 42,
   "id": "a99735e4-5960-42ea-985b-0d6dd0610a07",
   "metadata": {},
   "outputs": [
    {
     "name": "stdout",
     "output_type": "stream",
     "text": [
      "0\n",
      "6\n",
      "8\n",
      "12\n",
      "21\n",
      "29\n",
      "37\n",
      "39\n",
      "40\n"
     ]
    }
   ],
   "source": [
    "Input = 'peter piper picked a peck of pickled peppers.\\n'\n",
    "sum = 0\n",
    "for i in range(len(Input)):\n",
    "    if Input[i] == 'p':\n",
    "        print(i)\n"
   ]
  },
  {
   "cell_type": "code",
   "execution_count": null,
   "id": "fcd01b09-fe7d-453a-aa99-98396c5d4273",
   "metadata": {},
   "outputs": [],
   "source": [
    "Q. Write a python program to find below output using loop:- \n",
    " \n",
    "Input:- 'peter piper picked a peck of pickled peppers.' \n",
    "Output:- ['peter', 'piper', 'picked', 'a', 'peck', 'of', 'pickled', \n",
    "'peppers']"
   ]
  },
  {
   "cell_type": "code",
   "execution_count": 43,
   "id": "430d0080-572b-46cb-bb7e-caf91b266aec",
   "metadata": {},
   "outputs": [
    {
     "data": {
      "text/plain": [
       "['peter', 'piper', 'picked', 'a', 'peck', 'of', 'pickled', 'peppers.']"
      ]
     },
     "execution_count": 43,
     "metadata": {},
     "output_type": "execute_result"
    }
   ],
   "source": [
    "in1 =  'peter piper picked a peck of pickled peppers.' \n",
    "in1.split()"
   ]
  },
  {
   "cell_type": "code",
   "execution_count": 18,
   "id": "da253b78-6208-4a13-b642-21747727d47f",
   "metadata": {},
   "outputs": [
    {
     "name": "stdout",
     "output_type": "stream",
     "text": [
      "['peter', 'piper', 'picked', 'a', 'peck', 'of', 'pickled']\n"
     ]
    }
   ],
   "source": [
    "in1 =  'peter piper picked a peck of pickled peppers.' \n",
    "out = []\n",
    "s = ''\n",
    "for j in in1:\n",
    "    if j == ' ' or j == '.':\n",
    "        if s:\n",
    "            out.append(s)\n",
    "            s = ''\n",
    "    else:\n",
    "            s = s+j\n",
    "print(out)\n",
    "    "
   ]
  },
  {
   "cell_type": "code",
   "execution_count": null,
   "id": "167b3376-a32f-4ebd-a063-f388368741c9",
   "metadata": {},
   "outputs": [],
   "source": [
    "Q. Write a python program to find below output using loop:- \n",
    " \n",
    "Input:- 'peter piper picked a peck of pickled peppers.' \n",
    "Output:- 'peppers pickled of peck a picked piper peter'"
   ]
  },
  {
   "cell_type": "code",
   "execution_count": 12,
   "id": "a8a1b1d6-ca0d-4d2e-af74-4006be1487ec",
   "metadata": {},
   "outputs": [
    {
     "name": "stdout",
     "output_type": "stream",
     "text": [
      "peppers pickled of peck a picked piper peter\n"
     ]
    }
   ],
   "source": [
    "in1 =  'peter piper picked a peck of pickled peppers.' \n",
    "out = []\n",
    "s = ''\n",
    "for j in in1:\n",
    "    if j == ' ' or j == '.':\n",
    "        if s:\n",
    "            out.append(s)\n",
    "            s = ''\n",
    "    else:\n",
    "            s = s+j\n",
    "# ' '.join(out[::-1])\n",
    "print(' '.join(out[::-1]))"
   ]
  },
  {
   "cell_type": "code",
   "execution_count": null,
   "id": "8144cd96-41fe-45db-bfd4-ce7baadd7da7",
   "metadata": {},
   "outputs": [],
   "source": [
    "Q. Write a python program to find below output using loop:- \n",
    " \n",
    "Input:- 'peter piper picked a peck of pickled peppers.' \n",
    "Output:- '.sreppep delkcip fo kcep a dekcip repip retep' "
   ]
  },
  {
   "cell_type": "code",
   "execution_count": 20,
   "id": "7f7df6e7-0da2-487a-87f2-d641575fc2e7",
   "metadata": {},
   "outputs": [
    {
     "name": "stdout",
     "output_type": "stream",
     "text": [
      ".sreppep delkcip fo kcep a dekcip repip retep\n"
     ]
    }
   ],
   "source": [
    "in1 =  'peter piper picked a peck of pickled peppers. ' \n",
    "out = []\n",
    "s = ''\n",
    "for j in in1:\n",
    "    if j == ' ' :\n",
    "        if s:\n",
    "            out.append(s)\n",
    "            s = ''\n",
    "    else:\n",
    "            s = s+j\n",
    "# ' '.join(out[::-1])\n",
    "print(' '.join(out)[::-1])"
   ]
  },
  {
   "cell_type": "code",
   "execution_count": null,
   "id": "f61106bc-b95a-4ed9-9fcd-52ff17c8c1f3",
   "metadata": {},
   "outputs": [],
   "source": [
    "Q. Write a python program to find below output using loop:- \n",
    " \n",
    "Input:- 'peter piper picked a peck of pickled peppers.' \n",
    "Output:- 'retep repip dekcip a kcep fo delkcip sreppep'"
   ]
  },
  {
   "cell_type": "code",
   "execution_count": 21,
   "id": "42161b83-40f7-4672-a01a-bb116a8cccad",
   "metadata": {},
   "outputs": [
    {
     "name": "stdout",
     "output_type": "stream",
     "text": [
      "retep repip dekcip a kcep fo delkcip .sreppep\n"
     ]
    }
   ],
   "source": [
    "in1 =  'peter piper picked a peck of pickled peppers. ' \n",
    "out = []\n",
    "s = ''\n",
    "for j in in1:\n",
    "    if j == ' ' :\n",
    "        if s:\n",
    "            out.append(s[::-1])\n",
    "            s = ''\n",
    "    else:\n",
    "            s = s+j\n",
    "# ' '.join(out[::-1])\n",
    "print(' '.join(out))"
   ]
  },
  {
   "cell_type": "code",
   "execution_count": null,
   "id": "57306ad2-94e6-4260-89ae-67bc84972f59",
   "metadata": {},
   "outputs": [],
   "source": [
    "Q. Write a python program to find below output using loop:- \n",
    " \n",
    "Input:- 'peter piper picked a peck of pickled peppers.' \n",
    "Output:- 'Peter Piper Picked A Peck Of Pickled Peppers' "
   ]
  },
  {
   "cell_type": "code",
   "execution_count": 22,
   "id": "b5b60b74-b121-4e9b-b59a-6f6bd54201da",
   "metadata": {},
   "outputs": [
    {
     "name": "stdout",
     "output_type": "stream",
     "text": [
      "Peter Piper Picked A Peck Of Pickled Peppers.\n"
     ]
    }
   ],
   "source": [
    "in1 =  'peter piper picked a peck of pickled peppers. ' \n",
    "out = []\n",
    "s = ''\n",
    "for j in in1:\n",
    "    if j == ' ' :\n",
    "        if s:\n",
    "            out.append(s.capitalize())\n",
    "            s = ''\n",
    "    else:\n",
    "            s = s+j\n",
    "print(' '.join(out))"
   ]
  },
  {
   "cell_type": "code",
   "execution_count": null,
   "id": "b63cd2eb-c9fc-4f20-9ce2-b6db17a1259c",
   "metadata": {},
   "outputs": [],
   "source": [
    "Q. Write a python program to find below output using loop:- \n",
    " \n",
    "Input:- 'Peter Piper Picked A Peck Of Pickled Peppers.' \n",
    "Output:- 'Peter piper picked a peck of pickled peppers'"
   ]
  },
  {
   "cell_type": "code",
   "execution_count": 23,
   "id": "c00b940c-14b5-4085-b403-8c5577299e6b",
   "metadata": {},
   "outputs": [
    {
     "name": "stdout",
     "output_type": "stream",
     "text": [
      "Peter piper picked a peck of pickled peppers\n"
     ]
    }
   ],
   "source": [
    "# Input string\n",
    "my_str = 'Peter Piper Picked A Peck Of Pickled Peppers.'\n",
    "\n",
    "# Initialize variables\n",
    "words = []\n",
    "current_word = \"\"\n",
    "\n",
    "# Loop through each character in the string\n",
    "for char in my_str:\n",
    "    if char == ' ' or char == '.':\n",
    "        if current_word:\n",
    "            words.append(current_word)\n",
    "            current_word = \"\"\n",
    "    else:\n",
    "        current_word += char\n",
    "\n",
    "# Capitalize the first word and lowercase the rest\n",
    "output_str = words[0].capitalize() + ' ' + ' '.join(word.lower() for word in words[1:])\n",
    "print(output_str)\n"
   ]
  },
  {
   "cell_type": "code",
   "execution_count": null,
   "id": "737a04ae-38a3-405f-b781-418b5e94a1ab",
   "metadata": {},
   "outputs": [],
   "source": [
    "Q. Write a python program to implement index method using loop. If \n",
    "sub_str is found in my_str then it will print the index \n",
    "of first occurrence of first character of matching string in my_str:- \n",
    " \n",
    "Input:- my_str = 'Peter Piper Picked A Peck Of Pickled Peppers.', \n",
    "sub_str = 'Pickl' \n",
    "Output:- 29 "
   ]
  },
  {
   "cell_type": "code",
   "execution_count": null,
   "id": "75501516-5749-4129-a4e6-0267a84005bf",
   "metadata": {},
   "outputs": [],
   "source": [
    "# Input string and substring\n",
    "my_str = 'Peter Piper Picked A Peck Of Pickled Peppers.'\n",
    "sub_str = 'Pickl'\n",
    "\n",
    "# Lengths of the main string and the substring\n",
    "main_len = len(my_str)\n",
    "sub_len = len(sub_str)\n",
    "\n",
    "# Loop through the main string\n",
    "for i in range(main_len - sub_len + 1):\n",
    "    # Check if the substring matches from index `i`\n",
    "    if my_str[i:i + sub_len] == sub_str:\n",
    "        print(i)\n",
    "        break\n"
   ]
  },
  {
   "cell_type": "code",
   "execution_count": null,
   "id": "f9911efa-53c1-42e6-95af-2b3add77cecd",
   "metadata": {},
   "outputs": [],
   "source": [
    "Q. Write a python program to implement replace method using loop. If \n",
    "sub_str is found in my_str then it will replace the first \n",
    "occurrence of sub_str with new_str else it will will print sub_str not \n",
    "found:- \n",
    " \n",
    "Input:- my_str = 'Peter Piper Picked A Peck Of Pickled Peppers.', \n",
    "sub_str = 'Peck', new_str = 'Pack' \n",
    "Output:- 'Peter Piper Picked A Pack Of Pickled Peppers.'"
   ]
  },
  {
   "cell_type": "code",
   "execution_count": 28,
   "id": "76b8cec2-5b2d-4d30-8d4c-8b0dc2b4946e",
   "metadata": {},
   "outputs": [
    {
     "name": "stdout",
     "output_type": "stream",
     "text": [
      "21\n",
      "Peter Piper Picked A Pack Of Pickled Peppers.\n"
     ]
    }
   ],
   "source": [
    "# Input string and substring\n",
    "my_str = 'Peter Piper Picked A Peck Of Pickled Peppers.'\n",
    "sub_str = 'Peck'\n",
    "new_str = 'Pack'\n",
    "\n",
    "# Lengths of the main string and the substring\n",
    "main_len = len(my_str)\n",
    "sub_len = len(sub_str)\n",
    "\n",
    "# Loop through the main string\n",
    "for i in range(main_len - sub_len + 1):\n",
    "    # Check if the substring matches from index `i`\n",
    "    if my_str[i:i + sub_len] == sub_str:\n",
    "        print(i)\n",
    "        print(my_str.replace(sub_str,new_str))\n",
    "        break"
   ]
  },
  {
   "cell_type": "code",
   "execution_count": null,
   "id": "dde6911b-0212-4aa2-b02f-c92b271c9e63",
   "metadata": {},
   "outputs": [],
   "source": [
    "Q. Write a python program to find below output (implements rjust and \n",
    "ljust) using loop:- \n",
    " \n",
    "Input:- 'Peter Piper Picked A Peck Of Pickled Peppers.', sub_str = \n",
    "'Peck', \n",
    "Output:- '*********************Peck********************'"
   ]
  },
  {
   "cell_type": "code",
   "execution_count": 31,
   "id": "0db96ec8-4a30-44e5-b66e-7daa353af613",
   "metadata": {},
   "outputs": [
    {
     "name": "stdout",
     "output_type": "stream",
     "text": [
      "*********************Peck********************\n"
     ]
    }
   ],
   "source": [
    "# Input string and substring\n",
    "my_str = 'Peter Piper Picked A Peck Of Pickled Peppers.'\n",
    "sub_str = 'Peck'\n",
    "\n",
    "# Find the index of the substring\n",
    "start_index = my_str.index(sub_str)\n",
    "\n",
    "# Calculate the lengths of left and right paddings\n",
    "left_padding = start_index\n",
    "right_padding = len(my_str) - (start_index + len(sub_str))\n",
    "\n",
    "# Create the final string using loops\n",
    "result = ''\n",
    "\n",
    "# Add left padding\n",
    "for _ in range(left_padding):\n",
    "    result += '*'\n",
    "\n",
    "# Add the substring\n",
    "result += sub_str\n",
    "\n",
    "# Add right padding\n",
    "for _ in range(right_padding):\n",
    "    result += '*'\n",
    "\n",
    "# Display the result\n",
    "print(result)\n"
   ]
  },
  {
   "cell_type": "code",
   "execution_count": null,
   "id": "e1391049-bcac-41d3-89ba-4f2b5be7352f",
   "metadata": {},
   "outputs": [],
   "source": [
    "Q. Write a python program to find below output using loop:- \n",
    " \n",
    "Input:- 'This is Python class', sep = ' is', \n",
    "Output:- ['This', 'is', 'Python class']"
   ]
  },
  {
   "cell_type": "code",
   "execution_count": 38,
   "id": "d7fec4f7-1215-4fbd-bb9e-ccb9e98f493e",
   "metadata": {},
   "outputs": [
    {
     "name": "stdout",
     "output_type": "stream",
     "text": [
      "['This', ' is', ' Python class']\n"
     ]
    }
   ],
   "source": [
    "# Input string and separator\n",
    "my_str = 'This is Python class'\n",
    "sep = ' is'\n",
    "\n",
    "# Initialize an empty list to store parts of the string\n",
    "result = []\n",
    "current_part = \"\"\n",
    "i = 0\n",
    "\n",
    "# Loop through the string\n",
    "while i < len(my_str):\n",
    "    # Check if the substring matches the separator\n",
    "    if my_str[i:i + len(sep)] == sep:\n",
    "        # If match found, add current part to the list\n",
    "        result.append(current_part)\n",
    "        # Add the separator itself\n",
    "        result.append(sep)\n",
    "        # Skip the length of the separator\n",
    "        current_part = \"\"\n",
    "        i += len(sep)\n",
    "    else:\n",
    "        # Build the current part character by character\n",
    "        current_part += my_str[i]\n",
    "        i += 1\n",
    "\n",
    "# Append the last part if it exists\n",
    "if current_part:\n",
    "    result.append(current_part)\n",
    "\n",
    "print(result)\n"
   ]
  },
  {
   "cell_type": "code",
   "execution_count": null,
   "id": "a54f307e-cf72-40ed-8d41-e92da4160b60",
   "metadata": {},
   "outputs": [],
   "source": []
  }
 ],
 "metadata": {
  "kernelspec": {
   "display_name": "Python 3 (ipykernel)",
   "language": "python",
   "name": "python3"
  },
  "language_info": {
   "codemirror_mode": {
    "name": "ipython",
    "version": 3
   },
   "file_extension": ".py",
   "mimetype": "text/x-python",
   "name": "python",
   "nbconvert_exporter": "python",
   "pygments_lexer": "ipython3",
   "version": "3.12.7"
  }
 },
 "nbformat": 4,
 "nbformat_minor": 5
}
